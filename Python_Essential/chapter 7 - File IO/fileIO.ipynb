{
 "cells": [
  {
   "cell_type": "code",
   "execution_count": 10,
   "metadata": {},
   "outputs": [
    {
     "name": "stdout",
     "output_type": "stream",
     "text": [
      "heyyyyyyyyyyy\n",
      "thereeeeeeeeeeeeeeeeeeeeeeeeeeeeeeeeeeeeeeeeeeeeeeeeeeeee\n"
     ]
    }
   ],
   "source": [
    "# reading the txt file\n",
    "def main():\n",
    "    f = open('line.txt','r')\n",
    "    for line in f :\n",
    "        print(line.strip())\n",
    "        \n",
    "main()"
   ]
  },
  {
   "cell_type": "code",
   "execution_count": 16,
   "metadata": {},
   "outputs": [
    {
     "name": "stdout",
     "output_type": "stream",
     "text": [
      "/done\n"
     ]
    }
   ],
   "source": [
    "# copying the file\n",
    "def main():\n",
    "    infile = open('line.txt','rt')\n",
    "    outfile = open('copyfile.txt','wt')\n",
    "    for line in infile:\n",
    "        print(line.rstrip(),file=outfile)\n",
    "    outfile.close()\n",
    "    print('/done')\n",
    "    \n",
    "main()"
   ]
  },
  {
   "cell_type": "code",
   "execution_count": 19,
   "metadata": {},
   "outputs": [
    {
     "name": "stdout",
     "output_type": "stream",
     "text": [
      "done\n"
     ]
    }
   ],
   "source": [
    "# Reading & copying the image file \n",
    "\n",
    "def main():\n",
    "    infile = open('img.jpg','rb')\n",
    "    outfile = open('copyimg.jpg','wb')\n",
    "    while True:\n",
    "        buf = infile.read(10240) # def the buf size of 10kb\n",
    "        if buf:\n",
    "            outfile.write(buf)\n",
    "        else:\n",
    "            break\n",
    "    outfile.close()\n",
    "    print('done')\n",
    "    \n",
    "main()"
   ]
  }
 ],
 "metadata": {
  "kernelspec": {
   "display_name": "Python 3",
   "language": "python",
   "name": "python3"
  },
  "language_info": {
   "codemirror_mode": {
    "name": "ipython",
    "version": 3
   },
   "file_extension": ".py",
   "mimetype": "text/x-python",
   "name": "python",
   "nbconvert_exporter": "python",
   "pygments_lexer": "ipython3",
   "version": "3.9.13"
  },
  "orig_nbformat": 4
 },
 "nbformat": 4,
 "nbformat_minor": 2
}
