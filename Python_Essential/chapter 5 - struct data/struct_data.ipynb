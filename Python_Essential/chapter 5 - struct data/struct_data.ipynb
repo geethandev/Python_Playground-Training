{
 "cells": [
  {
   "attachments": {},
   "cell_type": "markdown",
   "metadata": {},
   "source": [
    "### ***Basic data structures***\n",
    "- list - mutable\n",
    "- tuple - immutable\n",
    "- dict - mutable\n",
    "- sets - mutable\n",
    "\n",
    "***\n"
   ]
  },
  {
   "cell_type": "code",
   "execution_count": 3,
   "metadata": {},
   "outputs": [
    {
     "name": "stdout",
     "output_type": "stream",
     "text": [
      "index of Bob is 1\n",
      "Index of 2 is 1\n",
      "[1, 2, 3, 4, 6, 7, 8, 9, 10, 11]\n"
     ]
    }
   ],
   "source": [
    "# list\n",
    "\n",
    "def main():\n",
    "    numbers = [1,2,3,4,5,6,7,8,9,10,11]\n",
    "    names = [\"Alice\", \"Bob\", \"Charlie\", \"David\", \"Eve\"]\n",
    "    \n",
    "    idxname = input(\"enter the name you want to find : \")\n",
    "    FindIndex(names,idxname)\n",
    "    \n",
    "    idxnum = input(\"enter the number you want ot find : \")\n",
    "    FindNum(numbers,idxnum)\n",
    "    \n",
    "    idxdel = input(\"enter the number you want to del : \")   \n",
    "    DelNum(numbers,idxdel)\n",
    "    \n",
    "\n",
    "def FindIndex(lst, name):\n",
    "    try:\n",
    "        lowercase_name = name.lower()\n",
    "        for index, value in enumerate(lst):\n",
    "            if value.lower() == lowercase_name:\n",
    "                 print(f\"index of {value} is {index}\")\n",
    "    except IndexError:\n",
    "        return \"Error\"\n",
    "\n",
    "def FindNum(numberlst, num):\n",
    "    try:\n",
    "        num = int(num)  # Convert the input to an integer\n",
    "        indexofnum = numberlst.index(num)\n",
    "        print(f\"Index of {num} is {indexofnum}\")\n",
    "    except ValueError:\n",
    "        print(\"Number not found in the list\")\n",
    "    except Exception as e:\n",
    "        print(\"Error while searching:\", str(e))\n",
    "\n",
    "\n",
    "def DelNum(numberslst, num):\n",
    "    try:\n",
    "        num = int(num)\n",
    "        numberslst.remove(num)\n",
    "        print(numberslst)\n",
    "    except ValueError:\n",
    "        print(\"Number not found in the list\")\n",
    "    except Exception as e:\n",
    "        print(\"Error while deleting:\", str(e))\n",
    "\n",
    "\n",
    "\n",
    "if __name__ == '__main__' : main()"
   ]
  },
  {
   "cell_type": "code",
   "execution_count": 4,
   "metadata": {},
   "outputs": [
    {
     "name": "stdout",
     "output_type": "stream",
     "text": [
      "I have an apple!\n"
     ]
    }
   ],
   "source": [
    "# Create a set of unique elements\n",
    "fruits = {'apple', 'banana', 'orange'}\n",
    "\n",
    "# Check if 'apple' is in the set\n",
    "if 'apple' in fruits:\n",
    "    print(\"I have an apple!\")\n"
   ]
  },
  {
   "cell_type": "code",
   "execution_count": 5,
   "metadata": {},
   "outputs": [
    {
     "name": "stdout",
     "output_type": "stream",
     "text": [
      "Bob's age is 22\n"
     ]
    }
   ],
   "source": [
    "# Create a dictionary of student names and their ages\n",
    "students = {'Alice': 20, 'Bob': 22, 'Charlie': 19}\n",
    "\n",
    "# Access the age of 'Bob'\n",
    "bob_age = students['Bob']\n",
    "print(f\"Bob's age is {bob_age}\")\n"
   ]
  },
  {
   "cell_type": "code",
   "execution_count": 6,
   "metadata": {},
   "outputs": [
    {
     "name": "stdout",
     "output_type": "stream",
     "text": [
      "The point is located at (3, 7)\n"
     ]
    }
   ],
   "source": [
    "# Create a tuple of coordinates\n",
    "point = (3, 7)\n",
    "\n",
    "# Access the individual elements of the tuple\n",
    "x = point[0]\n",
    "y = point[1]\n",
    "print(f\"The point is located at ({x}, {y})\")\n"
   ]
  }
 ],
 "metadata": {
  "kernelspec": {
   "display_name": "Python 3",
   "language": "python",
   "name": "python3"
  },
  "language_info": {
   "codemirror_mode": {
    "name": "ipython",
    "version": 3
   },
   "file_extension": ".py",
   "mimetype": "text/x-python",
   "name": "python",
   "nbconvert_exporter": "python",
   "pygments_lexer": "ipython3",
   "version": "3.9.13"
  },
  "orig_nbformat": 4
 },
 "nbformat": 4,
 "nbformat_minor": 2
}
