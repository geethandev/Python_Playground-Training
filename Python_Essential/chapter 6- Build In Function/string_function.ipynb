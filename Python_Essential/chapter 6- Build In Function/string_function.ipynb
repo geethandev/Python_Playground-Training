{
 "cells": [
  {
   "cell_type": "code",
   "execution_count": 27,
   "metadata": {},
   "outputs": [
    {
     "name": "stdout",
     "output_type": "stream",
     "text": [
      "Alice, Bob, Charlie\n",
      "['This', 'is', 'a', 'sample', 'sentence.']\n"
     ]
    }
   ],
   "source": [
    "# Joining strings using the join() function\n",
    "names = [\"Alice\", \"Bob\", \"Charlie\"]\n",
    "joined_names = \", \".join(names)\n",
    "print(joined_names)\n",
    "\n",
    "\n",
    "# Splitting a string using the split() function\n",
    "sentence = \"This is a sample sentence.\"\n",
    "split_sentence = sentence.split()\n",
    "print(split_sentence)\n",
    "\n"
   ]
  },
  {
   "attachments": {},
   "cell_type": "markdown",
   "metadata": {},
   "source": [
    "__repr__  special methods"
   ]
  },
  {
   "cell_type": "code",
   "execution_count": 4,
   "metadata": {},
   "outputs": [
    {
     "name": "stdout",
     "output_type": "stream",
     "text": [
      "'hey itachi'\n",
      "hey itachi\n"
     ]
    }
   ],
   "source": [
    "s = 'hey itachi'\n",
    "# print(repr(s)) using repr special methods\n",
    "print(s)"
   ]
  },
  {
   "cell_type": "code",
   "execution_count": 10,
   "metadata": {},
   "outputs": [
    {
     "name": "stdout",
     "output_type": "stream",
     "text": [
      "hey something welcome\n"
     ]
    }
   ],
   "source": [
    "class something:\n",
    "    def __init__(self,hello) -> None:\n",
    "        self.hello = hello\n",
    "        \n",
    "    def __repr__(self):\n",
    "        return f\"hey {self.hello} welcome\"\n",
    "    \n",
    "def main():\n",
    "    obj = something('something')\n",
    "    print(obj)\n",
    "    \n",
    "if __name__ == '__main__':main()"
   ]
  }
 ],
 "metadata": {
  "kernelspec": {
   "display_name": "Python 3",
   "language": "python",
   "name": "python3"
  },
  "language_info": {
   "codemirror_mode": {
    "name": "ipython",
    "version": 3
   },
   "file_extension": ".py",
   "mimetype": "text/x-python",
   "name": "python",
   "nbconvert_exporter": "python",
   "pygments_lexer": "ipython3",
   "version": "3.9.13"
  },
  "orig_nbformat": 4
 },
 "nbformat": 4,
 "nbformat_minor": 2
}
