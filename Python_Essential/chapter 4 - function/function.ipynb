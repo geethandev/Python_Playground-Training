{
 "cells": [
  {
   "attachments": {},
   "cell_type": "markdown",
   "metadata": {},
   "source": [
    "## ***Function***\n",
    "***"
   ]
  },
  {
   "cell_type": "code",
   "execution_count": null,
   "metadata": {},
   "outputs": [],
   "source": [
    "# default value\n",
    "\n",
    "def main():\n",
    "    Find(1,2)\n",
    "\n",
    "def Find(n1=0,n2=0,n3 = 0):\n",
    "    print(n1,n2)\n",
    "\n",
    "\n",
    "\n",
    "if __name__ == '__main__':main()"
   ]
  },
  {
   "cell_type": "code",
   "execution_count": 12,
   "metadata": {},
   "outputs": [
    {
     "name": "stdout",
     "output_type": "stream",
     "text": [
      "1\n",
      "2\n",
      "3\n",
      "4\n",
      "5\n",
      "6\n",
      "error\n"
     ]
    }
   ],
   "source": [
    "# args\n",
    "def main():\n",
    "    x = (1,2,3,4,5,6)\n",
    "    Find(*x)\n",
    "\n",
    "def Find(*args):\n",
    "    for num in args:\n",
    "        print(num)\n",
    "    \n",
    "if __name__ == '__main__':main()"
   ]
  },
  {
   "cell_type": "code",
   "execution_count": 7,
   "metadata": {},
   "outputs": [
    {
     "name": "stdout",
     "output_type": "stream",
     "text": [
      "key : first , value : hello\n",
      "key : last , value : bye\n"
     ]
    }
   ],
   "source": [
    "# kwargs\n",
    "\n",
    "def main():\n",
    "    x = {'first' : 'hello','last' : 'bye'}\n",
    "    Find(**x)\n",
    "\n",
    "def Find(**kwargs):\n",
    "    for k,v in kwargs.items():\n",
    "        print(f'key : {k} , value : {v}')\n",
    "     \n",
    "if __name__ == '__main__':main()"
   ]
  },
  {
   "cell_type": "code",
   "execution_count": 8,
   "metadata": {},
   "outputs": [
    {
     "name": "stdout",
     "output_type": "stream",
     "text": [
      "Calling function: add_numbers\n",
      "Function add_numbers finished execution\n",
      "8\n"
     ]
    }
   ],
   "source": [
    "# decorator\n",
    "\n",
    "def logger_decorator(func):\n",
    "    def wrapper(*args, **kwargs):\n",
    "        print(f\"Calling function: {func.__name__}\")\n",
    "        result = func(*args, **kwargs)\n",
    "        print(f\"Function {func.__name__} finished execution\")\n",
    "        return result\n",
    "    return wrapper\n",
    "\n",
    "@logger_decorator # decorator\n",
    "def add_numbers(a, b):\n",
    "    return a + b\n",
    "\n",
    "result = add_numbers(3, 5)\n",
    "print(result)\n"
   ]
  },
  {
   "cell_type": "code",
   "execution_count": 9,
   "metadata": {},
   "outputs": [
    {
     "name": "stdout",
     "output_type": "stream",
     "text": [
      "counter=3\n",
      "start=3\n",
      "counter=4\n",
      "start=4\n"
     ]
    }
   ],
   "source": [
    "def generator(start,stop):\n",
    "    while (start<=stop):\n",
    "        yield start\n",
    "        print(f'start={start}')\n",
    "        start+=1\n",
    "for counter in generator(3,4):\n",
    "    print(f'counter={counter}')"
   ]
  }
 ],
 "metadata": {
  "kernelspec": {
   "display_name": "Python 3",
   "language": "python",
   "name": "python3"
  },
  "language_info": {
   "codemirror_mode": {
    "name": "ipython",
    "version": 3
   },
   "file_extension": ".py",
   "mimetype": "text/x-python",
   "name": "python",
   "nbconvert_exporter": "python",
   "pygments_lexer": "ipython3",
   "version": "3.9.13"
  },
  "orig_nbformat": 4
 },
 "nbformat": 4,
 "nbformat_minor": 2
}
