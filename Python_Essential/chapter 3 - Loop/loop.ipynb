{
 "cells": [
  {
   "attachments": {},
   "cell_type": "markdown",
   "metadata": {},
   "source": [
    "## ***loop***"
   ]
  },
  {
   "cell_type": "code",
   "execution_count": 3,
   "metadata": {},
   "outputs": [
    {
     "name": "stdout",
     "output_type": "stream",
     "text": [
      "hi\n",
      "hi\n",
      "hi\n",
      "hi\n",
      "hi\n",
      "hi\n",
      "hi\n",
      "hi\n",
      "hi\n",
      "hi\n",
      "you enter the correct word\n"
     ]
    }
   ],
   "source": [
    "for _ in range(10):\n",
    "    print('hi')\n",
    "\n",
    "x = ''\n",
    "\n",
    "temp = 'Hello'\n",
    "\n",
    "while x != temp:\n",
    "    x = input('enter the guessed word :')\n",
    "    if x == temp:\n",
    "        print('you enter the correct word')  "
   ]
  },
  {
   "cell_type": "code",
   "execution_count": 6,
   "metadata": {},
   "outputs": [
    {
     "name": "stdout",
     "output_type": "stream",
     "text": [
      "you can enter\n"
     ]
    }
   ],
   "source": [
    "temp = ''\n",
    "secret_word = 'Hello'\n",
    "auth = False\n",
    "count = 0\n",
    "max_attempt = 5\n",
    "\n",
    "while temp != secret_word:\n",
    "    count+=1\n",
    "    if count>max_attempt:break\n",
    "    temp = input(f'{count} enter the guessed word :')\n",
    "    if secret_word == temp:\n",
    "        auth = True \n",
    "        break\n",
    "print('you can enter' if auth else \"calling FBI.... FBI open up :')... \" )"
   ]
  }
 ],
 "metadata": {
  "kernelspec": {
   "display_name": "Python 3",
   "language": "python",
   "name": "python3"
  },
  "language_info": {
   "name": "python",
   "version": "3.9.13"
  },
  "orig_nbformat": 4
 },
 "nbformat": 4,
 "nbformat_minor": 2
}
