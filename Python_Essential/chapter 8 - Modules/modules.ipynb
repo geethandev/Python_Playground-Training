{
 "cells": [
  {
   "cell_type": "code",
   "execution_count": 2,
   "metadata": {},
   "outputs": [
    {
     "name": "stdout",
     "output_type": "stream",
     "text": [
      "sys.version_info(major=3, minor=9, micro=13, releaselevel='final', serial=0)\n"
     ]
    }
   ],
   "source": [
    "import sys \n",
    "\n",
    "def main():\n",
    "    x = sys.version_info\n",
    "    print(x)\n",
    "    \n",
    "if __name__ == \"__main__\":main()"
   ]
  },
  {
   "cell_type": "code",
   "execution_count": 5,
   "metadata": {},
   "outputs": [
    {
     "name": "stdout",
     "output_type": "stream",
     "text": [
      "win32\n"
     ]
    }
   ],
   "source": [
    "import sys \n",
    "\n",
    "def main():\n",
    "    x = sys.platform\n",
    "    print(x)\n",
    "    \n",
    "if __name__ == \"__main__\":main()"
   ]
  },
  {
   "cell_type": "code",
   "execution_count": 6,
   "metadata": {},
   "outputs": [
    {
     "name": "stdout",
     "output_type": "stream",
     "text": [
      "nt\n"
     ]
    }
   ],
   "source": [
    "import os\n",
    "\n",
    "def main():\n",
    "    x = os.name\n",
    "    print(x)\n",
    "    \n",
    "if __name__ == \"__main__\":main()"
   ]
  },
  {
   "cell_type": "code",
   "execution_count": 9,
   "metadata": {},
   "outputs": [
    {
     "name": "stdout",
     "output_type": "stream",
     "text": [
      "b'\\xb9l\\x02!\\x9e\\x80\\xd2)\\xf1\\xed'\n"
     ]
    }
   ],
   "source": [
    "import os\n",
    "\n",
    "def main():\n",
    "    x = os.urandom(10)\n",
    "    print(x)\n",
    "    \n",
    "if __name__ == \"__main__\":main()"
   ]
  },
  {
   "cell_type": "code",
   "execution_count": 13,
   "metadata": {},
   "outputs": [
    {
     "name": "stdout",
     "output_type": "stream",
     "text": [
      "[37, 3, 20, 5, 15, 8, 42, 48, 34, 45, 2, 25, 7, 33, 26, 31, 44, 23, 38, 35, 39, 6, 41, 46, 16, 17, 12, 40, 22, 19, 0, 24, 32, 27, 1, 14, 10, 18, 47, 11, 30, 9, 13, 28, 29, 49, 43, 36, 4, 21]\n"
     ]
    }
   ],
   "source": [
    "import random\n",
    "\n",
    "def main():\n",
    "    x = list(range(50))\n",
    "    random.shuffle(x)\n",
    "    print(x)\n",
    "    \n",
    "if __name__ == \"__main__\":main()"
   ]
  },
  {
   "cell_type": "code",
   "execution_count": 20,
   "metadata": {},
   "outputs": [
    {
     "name": "stdout",
     "output_type": "stream",
     "text": [
      "2023\n"
     ]
    }
   ],
   "source": [
    "import datetime\n",
    "def main():\n",
    "    x = datetime.datetime.now()\n",
    "    print(x.year)\n",
    "    \n",
    "if __name__ == \"__main__\":main()\n"
   ]
  }
 ],
 "metadata": {
  "kernelspec": {
   "display_name": "Python 3",
   "language": "python",
   "name": "python3"
  },
  "language_info": {
   "codemirror_mode": {
    "name": "ipython",
    "version": 3
   },
   "file_extension": ".py",
   "mimetype": "text/x-python",
   "name": "python",
   "nbconvert_exporter": "python",
   "pygments_lexer": "ipython3",
   "version": "3.9.13"
  },
  "orig_nbformat": 4
 },
 "nbformat": 4,
 "nbformat_minor": 2
}
