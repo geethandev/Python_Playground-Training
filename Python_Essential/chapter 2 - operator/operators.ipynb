{
 "cells": [
  {
   "attachments": {},
   "cell_type": "markdown",
   "metadata": {},
   "source": [
    "### ***Operators***\n",
    "***\n"
   ]
  },
  {
   "cell_type": "code",
   "execution_count": 2,
   "metadata": {},
   "outputs": [
    {
     "name": "stdout",
     "output_type": "stream",
     "text": [
      "result 13\n",
      "result -3\n",
      "result 40\n",
      "result 0.625\n"
     ]
    }
   ],
   "source": [
    "# ops such as +,-,*,/\n",
    "\n",
    "x = 5\n",
    "y = 8\n",
    "\n",
    "print(f'result {x+y}')\n",
    "print(f'result {x-y}')\n",
    "print(f'result {x*y}')\n",
    "print(f'result {x/y}')\n",
    "\n",
    "\n"
   ]
  },
  {
   "cell_type": "code",
   "execution_count": 6,
   "metadata": {},
   "outputs": [
    {
     "name": "stdout",
     "output_type": "stream",
     "text": [
      "Result: 1\n"
     ]
    }
   ],
   "source": [
    "# bitwise op &(and),|(or),^(xor),(<< shift left ),(>> shift right )\n",
    "#include <stdio.h>\n",
    "\n",
    "\n",
    "num1 = 5\n",
    "num2 = 3\n",
    "\n",
    "result = num1 & num2  # Bitwise AND operation\n",
    "print(\"Result:\", result)\n",
    "\n"
   ]
  },
  {
   "cell_type": "code",
   "execution_count": 7,
   "metadata": {},
   "outputs": [
    {
     "name": "stdout",
     "output_type": "stream",
     "text": [
      "result of grt False\n"
     ]
    }
   ],
   "source": [
    "# comparision op such as ==, <,<=,>,>=\n",
    "\n",
    "x = 50\n",
    "y = 80\n",
    "\n",
    "print(f'result of grt is {x>y}')"
   ]
  },
  {
   "cell_type": "code",
   "execution_count": 8,
   "metadata": {},
   "outputs": [
    {
     "name": "stdout",
     "output_type": "stream",
     "text": [
      "num present in the list of [1, 2, 3, 4, 5]\n"
     ]
    }
   ],
   "source": [
    "# boolean such as and , or , not , in , not in , is , not is\n",
    "\n",
    "\n",
    "x = [1,2,3,4,5]\n",
    "y  = 4\n",
    "\n",
    "if y in x:\n",
    "    print(f'num present in the list of {x}')\n",
    "    "
   ]
  }
 ],
 "metadata": {
  "kernelspec": {
   "display_name": "Python 3",
   "language": "python",
   "name": "python3"
  },
  "language_info": {
   "codemirror_mode": {
    "name": "ipython",
    "version": 3
   },
   "file_extension": ".py",
   "mimetype": "text/x-python",
   "name": "python",
   "nbconvert_exporter": "python",
   "pygments_lexer": "ipython3",
   "version": "3.9.13"
  },
  "orig_nbformat": 4
 },
 "nbformat": 4,
 "nbformat_minor": 2
}
