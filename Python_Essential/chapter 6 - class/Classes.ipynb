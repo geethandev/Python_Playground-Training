{
 "cells": [
  {
   "attachments": {},
   "cell_type": "markdown",
   "metadata": {},
   "source": [
    "## ***Classes***\n",
    "\n",
    "***"
   ]
  },
  {
   "cell_type": "code",
   "execution_count": 5,
   "metadata": {},
   "outputs": [
    {
     "name": "stdout",
     "output_type": "stream",
     "text": [
      "clicking the mouse button\n",
      "moving mouse at speed of 10ms\n"
     ]
    }
   ],
   "source": [
    "class mouse:\n",
    "    cursor_speed = '10ms'\n",
    "    clicks = 'button'\n",
    "    \n",
    "    def move(self):\n",
    "        print(\"moving mouse at speed of\", self.cursor_speed)\n",
    "        \n",
    "    def click(self):\n",
    "        print(f'clicking the mouse {self.clicks}')\n",
    "        \n",
    "def  main():\n",
    "    obj_mouse = mouse()\n",
    "    obj_mouse.click()\n",
    "    obj_mouse.move()\n",
    "\n",
    "if __name__ == '__main__' :main()        \n",
    "    \n",
    "        "
   ]
  },
  {
   "cell_type": "code",
   "execution_count": 17,
   "metadata": {},
   "outputs": [
    {
     "name": "stdout",
     "output_type": "stream",
     "text": [
      "the charging time for the 50000mah powerbank is 25.0 hours\n",
      "\n",
      "The storage capacity of the samsung powerbank in watt is 192.5\n"
     ]
    }
   ],
   "source": [
    "# Constructiong obj \n",
    "\n",
    "class PowerBank:\n",
    "    \n",
    "    def __init__(self) :\n",
    "        self._capacity = int(input('enter the capacity of the PowerBank : '))\n",
    "        self._NoOfChargingport = input('enter the Number of the charging port in the PowerBank : ')\n",
    "        self._brand = input('enter the barnd of the PowerBank : ')\n",
    "        \n",
    "    def Brand(self):\n",
    "        print(f\"the PowerBank Brand is {self._brand}\") \n",
    "    \n",
    "    def ChargingTime(self):\n",
    "        # By using 5V/2A power adapter\n",
    "        print(f'the charging time for the {self._capacity}mah powerbank is {self._capacity/2000} hours')\n",
    "        print()\n",
    "    \n",
    "    def Watt(self):\n",
    "        # Stored Energy (Wh) = (10000mAh x 3.85V) / 1000 = 38.5 Wh.\n",
    "        print(f\"The storage capacity of the {self._brand} powerbank in watt is {(self._capacity*3.85)/1000}\")\n",
    "        \n",
    "        \n",
    "def main():\n",
    "    obj_powerbank = PowerBank()\n",
    "    obj_powerbank.ChargingTime()\n",
    "    obj_powerbank.Watt()\n",
    "    \n",
    "if __name__ == \"__main__\":main()\n",
    "        "
   ]
  },
  {
   "cell_type": "code",
   "execution_count": 4,
   "metadata": {},
   "outputs": [
    {
     "name": "stdout",
     "output_type": "stream",
     "text": [
      "the charging time for the 10000mah powerbank is 5.0 hours\n",
      "\n",
      "The storage capacity of the samsung powerbank in watt is 38.5\n"
     ]
    }
   ],
   "source": [
    "# Don't panic this is same as above but implemented kwargs\n",
    "\n",
    "# Constructiong obj \n",
    "\n",
    "class PowerBank:\n",
    "    \n",
    "    def __init__(self,**kwargs) :\n",
    "        self._capacity = kwargs.get('capacity','default')\n",
    "        self._NoOfChargingport = kwargs.get('NoOfChargingport','default')\n",
    "        self._brand = kwargs.get('brand','default')\n",
    "        \n",
    "    def Brand(self,**kwargs):\n",
    "        print(f\"the PowerBank Brand is {self._brand}\") \n",
    "    \n",
    "    def ChargingTime(self,capacity):\n",
    "        # By using 5V/2A power adapter\n",
    "        print(f'the charging time for the {self._capacity}mah powerbank is {capacity/2000} hours')\n",
    "        print()\n",
    "    \n",
    "    def Watt(self,capacity):\n",
    "        # Stored Energy (Wh) = (10000mAh x 3.85V) / 1000 = 38.5 Wh.\n",
    "        print(f\"The storage capacity of the {self._brand} powerbank in watt is {(capacity*3.85)/1000}\")\n",
    "        \n",
    "        \n",
    "def main():\n",
    "    obj_powerbank = PowerBank(capacity = 10000,NoOfChargingport = 5,brand = 'samsung')\n",
    "    obj_powerbank.ChargingTime(obj_powerbank._capacity)\n",
    "    obj_powerbank.Watt(obj_powerbank._capacity)\n",
    "    \n",
    "if __name__ == \"__main__\":main()\n",
    "        "
   ]
  },
  {
   "cell_type": "code",
   "execution_count": null,
   "metadata": {},
   "outputs": [],
   "source": []
  }
 ],
 "metadata": {
  "kernelspec": {
   "display_name": "Python 3",
   "language": "python",
   "name": "python3"
  },
  "language_info": {
   "codemirror_mode": {
    "name": "ipython",
    "version": 3
   },
   "file_extension": ".py",
   "mimetype": "text/x-python",
   "name": "python",
   "nbconvert_exporter": "python",
   "pygments_lexer": "ipython3",
   "version": "3.9.13"
  },
  "orig_nbformat": 4
 },
 "nbformat": 4,
 "nbformat_minor": 2
}
