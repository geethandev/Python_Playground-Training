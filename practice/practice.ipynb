{
 "cells": [
  {
   "cell_type": "code",
   "execution_count": 6,
   "metadata": {},
   "outputs": [],
   "source": [
    "# Write a program that takes two numbers as input and calculates their\n",
    "# sum, difference, product, and quotient.\n",
    "\n",
    "#sum\n",
    "print(\"sum : \",(lambda x,y:x+y)(int(input(\"enter the number 1:\" )),int(input(\"enter the number 2:\" ))))\n",
    "\n",
    "#difference\n",
    "print(\"diffrence: \",(lambda x,y:x-y)(int(input(\"enter the number 1:\" )),int(input(\"enter the number 2:\" ))))\n",
    "\n",
    "# product\n",
    "print(\"sum : \",(lambda x,y:x*y)(int(input(\"enter the number 1:\" )),int(input(\"enter the number 2:\" ))))\n",
    "\n",
    "# quotient\n",
    "print(\"sum : \",(lambda x,y:x/y)(int(input(\"enter the number 1:\" )),int(input(\"enter the number 2:\" ))))\n",
    "\n",
    "\n"
   ]
  },
  {
   "cell_type": "code",
   "execution_count": 11,
   "metadata": {},
   "outputs": [
    {
     "name": "stdout",
     "output_type": "stream",
     "text": [
      "area : 7850.0\n"
     ]
    }
   ],
   "source": [
    "# Write a program that takes the radius of a\n",
    "# circle as input and calculates its area and circumference.\n",
    "\n",
    "class circule:\n",
    "    def __init__(self):\n",
    "        self.radius = int(input(\"enter\"))\n",
    "\n",
    "    def cal_area(self):\n",
    "        area =3.14*(self.radius**2)\n",
    "        print(\"area :\" , area)\n",
    "\n",
    "#create a instance to accesss the class\n",
    "circle = circule()\n",
    "\n",
    "# call the class.object\n",
    "\n",
    "circle.cal_area()"
   ]
  },
  {
   "cell_type": "code",
   "execution_count": 15,
   "metadata": {},
   "outputs": [
    {
     "name": "stdout",
     "output_type": "stream",
     "text": [
      "the celsius is :  2760.0 c\n"
     ]
    }
   ],
   "source": [
    "class digconv:\n",
    "    def __init__(self) :\n",
    "        self.farenheit = float(input(\"enter the fren :\"))\n",
    "        \n",
    "    def conv(self):\n",
    "        celsius = (self.farenheit-32)*5/9\n",
    "        print(\"the celsius is : \" ,celsius,\"C\")\n",
    "\n",
    "convert = digconv()\n",
    "\n",
    "convert.conv()"
   ]
  },
  {
   "cell_type": "code",
   "execution_count": 17,
   "metadata": {},
   "outputs": [
    {
     "name": "stdout",
     "output_type": "stream",
     "text": [
      "20\n",
      "10\n"
     ]
    }
   ],
   "source": [
    "# Write a program that swaps the values of two variables without using a temporary variable.\n",
    "\n",
    "\n",
    "a = 10\n",
    "b = 20\n",
    "\n",
    "c = b\n",
    "b = a\n",
    "a = c\n",
    "\n",
    "print(a)\n",
    "print(b)"
   ]
  },
  {
   "attachments": {},
   "cell_type": "markdown",
   "metadata": {},
   "source": [
    "Conditional"
   ]
  },
  {
   "cell_type": "code",
   "execution_count": 19,
   "metadata": {},
   "outputs": [
    {
     "name": "stdout",
     "output_type": "stream",
     "text": [
      "1\n",
      "2\n",
      "3\n",
      "4\n",
      "5\n",
      "6\n",
      "7\n",
      "8\n",
      "9\n",
      "10\n",
      "11\n",
      "12\n",
      "13\n",
      "14\n",
      "15\n",
      "16\n",
      "17\n",
      "18\n",
      "19\n",
      "20\n",
      "21\n",
      "22\n",
      "23\n",
      "24\n",
      "25\n",
      "26\n",
      "27\n",
      "28\n",
      "29\n",
      "30\n",
      "31\n",
      "32\n",
      "33\n",
      "34\n",
      "35\n",
      "36\n",
      "37\n",
      "38\n",
      "39\n",
      "40\n",
      "41\n",
      "42\n",
      "43\n",
      "44\n",
      "45\n",
      "46\n",
      "47\n",
      "48\n",
      "49\n"
     ]
    },
    {
     "data": {
      "text/plain": [
       "50"
      ]
     },
     "execution_count": 19,
     "metadata": {},
     "output_type": "execute_result"
    }
   ],
   "source": [
    "# Write a program that prints all even numbers from 1 to 20 using a while loop.\n",
    "\n",
    "class lop:\n",
    "    def __init__(self) -> None:\n",
    "        self.i = 1\n",
    "        while  self.i < 50:\n",
    "             print(self.i)\n",
    "             self.i +=1\n",
    "             \n",
    "obj= lop()\n",
    "obj.i"
   ]
  },
  {
   "cell_type": "code",
   "execution_count": 21,
   "metadata": {},
   "outputs": [
    {
     "name": "stdout",
     "output_type": "stream",
     "text": [
      "5\n",
      "s\n",
      "d\n",
      "d\n"
     ]
    }
   ],
   "source": [
    "\n",
    "while True:\n",
    "    inp = input(\"enter \").lower()\n",
    "    \n",
    "    if inp ==\"quit\":\n",
    "        break\n",
    "    else:\n",
    "        print(inp)\n",
    "    \n",
    "    "
   ]
  },
  {
   "cell_type": "code",
   "execution_count": 23,
   "metadata": {},
   "outputs": [
    {
     "data": {
      "text/plain": [
       "12655723162254307425418678245150829297671403862274660768187828858528140823147351237817802795619571074765208532598060224803240903782164769430795025578054271906283387643826088448124626488332623608376164081221171179439885840257818732919037889603719186743943363062139593784473922231852782547619771723889252476871186000174697934549112845662596182308280390615184691924446215552586523740084932807259056238962104689731522587564412231618018774350801526839567367444928206231310973619440354723718012867753019556135721376207959558860559933052856914157120622980057169891912595926540427596853441276985006724869558201930657900240943007657817473684008944448183219124163017666607770667585082169598239230274035517738648065600492702095732843492708856036920219883363111527988109277392696562776813446645651238419301586157342867860646666350050113314787911320639668510871569846664873595017518995670958477806411667505346462590471136862647349666243426242677175204732314281064417939041868653741187423064985189556742640111598580035644021835576715752869397465453828584471291269955890393294448315746500268702149708808053100406398480942695623586049403348084970064668900206251516968479727515576425962392136269169089884609794271331061018895634421094082310408889752954265842691732460538911784960000000000000000000000000000000000000000000000000000000000000000000000000000000000000000000000000000000000000000000000000000000000000000000000000000"
      ]
     },
     "execution_count": 23,
     "metadata": {},
     "output_type": "execute_result"
    }
   ],
   "source": [
    "def fac(n):\n",
    "    if n==0 or n==1:\n",
    "        return 1\n",
    "    else:\n",
    "        return n*fac(n-1)\n",
    "    \n",
    "fac(600)\n",
    "    "
   ]
  },
  {
   "cell_type": "code",
   "execution_count": 9,
   "metadata": {},
   "outputs": [
    {
     "name": "stdout",
     "output_type": "stream",
     "text": [
      "number 20\n"
     ]
    }
   ],
   "source": [
    "# lis = [1,2,5,8,9,20,40,7]\n",
    "\n",
    "# s=sorted(lis)\n",
    "# print(s[-1])\n",
    "\n",
    "# or\n",
    "\n",
    "def findgrater(numbers):\n",
    "    graternumber = numbers[0]\n",
    "    for num in numbers:\n",
    "        if num > graternumber:\n",
    "            graternumber = num\n",
    "    print(\"number\",graternumber)\n",
    "\n",
    "\n",
    "\n",
    "# Example usage\n",
    "number_list = [10, 5, 20, 15, 8]\n",
    "findgrater(number_list)"
   ]
  },
  {
   "cell_type": "code",
   "execution_count": 11,
   "metadata": {},
   "outputs": [
    {
     "data": {
      "text/plain": [
       "'hello there'"
      ]
     },
     "execution_count": 11,
     "metadata": {},
     "output_type": "execute_result"
    }
   ],
   "source": [
    "# Write a program that takes a list of strings and concatenates them into a single string.\n",
    "\n",
    "def strconcat(string):\n",
    "    out = ' '.join(string)\n",
    "    return out\n",
    "string = ['hello','there']\n",
    "\n",
    "strconcat(string)"
   ]
  },
  {
   "cell_type": "code",
   "execution_count": 20,
   "metadata": {},
   "outputs": [
    {
     "data": {
      "text/plain": [
       "['h', 'm']"
      ]
     },
     "execution_count": 20,
     "metadata": {},
     "output_type": "execute_result"
    }
   ],
   "source": [
    "# Write a program that removes duplicates from a list.\n",
    "\n",
    "def missionremove(string):\n",
    "    newlist = []\n",
    "    \n",
    "    for i in string:\n",
    "        if i not in newlist:\n",
    "            newlist.append(i)\n",
    "    return newlist\n",
    "            \n",
    "n = ['h','h','m'] \n",
    "missionremove(n)       \n"
   ]
  },
  {
   "cell_type": "code",
   "execution_count": 27,
   "metadata": {},
   "outputs": [
    {
     "name": "stdout",
     "output_type": "stream",
     "text": [
      "F\n"
     ]
    }
   ],
   "source": [
    "# Grade Classification: Write a program that takes a student's score as input and prints their corresponding grade based on the following conditions:\n",
    "\n",
    "# 90 or above: \"A\"\n",
    "# 80-89: \"B\"\n",
    "# 70-79: \"C\"\n",
    "# 60-69: \"D\"\n",
    "# Below 60: \"F\"\n",
    "\n",
    "class studentscore:\n",
    "    def __init__(self) :\n",
    "        self.score = int(input())\n",
    "        \n",
    "    def calscore(self):\n",
    "        \n",
    "        if self.score >90:\n",
    "            print(\"A\")\n",
    "        elif self.score>=80 and self.score<=89:\n",
    "            print(\"B\")\n",
    "        elif self.score>=70 and self.score<=79:\n",
    "            print(\"C\")\n",
    "        elif self.score>=60 and self.score<=69:\n",
    "            print(\"D\")\n",
    "        elif self.score<60:\n",
    "            print(\"F\")\n",
    "\n",
    "obj = studentscore()\n",
    "\n",
    "obj.calscore()\n",
    "      \n"
   ]
  },
  {
   "cell_type": "code",
   "execution_count": 32,
   "metadata": {},
   "outputs": [
    {
     "name": "stdout",
     "output_type": "stream",
     "text": [
      "number 50\n",
      "number 80\n"
     ]
    }
   ],
   "source": [
    "# Number Comparison: Write a program that takes three numbers as input and prints the largest and smallest numbers among them\n",
    "\n",
    "\n",
    "\n",
    "class find:\n",
    "    def __init__(self) :\n",
    "        self.num1 = int(input(\"entrer the num 1\"))\n",
    "        self.num2 = int(input(\"entrer the num 1\"))\n",
    "        self.num3 = int(input(\"entrer the num 1\"))\n",
    "        \n",
    "    def highorlow(self): \n",
    "        smallest = self.num1\n",
    "        if self.num2 < smallest:\n",
    "            smallest = self.num2\n",
    "        if self.num3 < smallest:\n",
    "            smallest = self.num3\n",
    "        print(\"number\",smallest)\n",
    "        high = self.num1\n",
    "        if self.num2 > high:\n",
    "            high = self.num2\n",
    "        if self.num3 > high:\n",
    "            high = self.num3\n",
    "        print(\"number\",high)\n",
    "    \n",
    "obj = find()\n",
    "\n",
    "obj.highorlow()"
   ]
  },
  {
   "cell_type": "code",
   "execution_count": 36,
   "metadata": {},
   "outputs": [
    {
     "name": "stdout",
     "output_type": "stream",
     "text": [
      "h palindorme\n"
     ]
    }
   ],
   "source": [
    "class palidonrome:\n",
    "    def __init__(self) -> None:\n",
    "        self.string = str(input(\"enter the string: \")).lower().replace(\" \",\"\")\n",
    "        \n",
    "    def findpal(self):\n",
    "        if self.string  == self.string[::-1]:\n",
    "            print(f\"{self.string} is palindorme\")\n",
    "        else :\n",
    "            print(f\"{self.string} not a palindrome\")\n",
    "\n",
    "obj = palidonrome()\n",
    "obj.findpal()\n",
    "    "
   ]
  },
  {
   "cell_type": "code",
   "execution_count": 7,
   "metadata": {},
   "outputs": [
    {
     "data": {
      "text/plain": [
       "'The string contains a vowel.'"
      ]
     },
     "execution_count": 7,
     "metadata": {},
     "output_type": "execute_result"
    }
   ],
   "source": [
    "# Vowel or Consonant: Write a program that takes a letter as input and determines whether it is a vowel or a consonant.\n",
    "# Handle both lowercase and uppercase letters.\n",
    "\n",
    "\n",
    "\n",
    "def FindVC(string):\n",
    "    vowels = ['a', 'e', 'i', 'o', 'u']\n",
    "    lowercase_string = string.lower()\n",
    "    \n",
    "    for v in vowels:    \n",
    "        if v in lowercase_string:\n",
    "            return \"The string contains a vowel.\"\n",
    "        elif lowercase_string.isalpha():\n",
    "            return \"The string does not contain a vowel.\"\n",
    "        else:\n",
    "            return \"Invalid input.\"\n",
    "\n",
    "# Example usage\n",
    "\n",
    "FindVC( input(\"Enter a string: \"))\n",
    "\n",
    "\n",
    "    \n"
   ]
  },
  {
   "cell_type": "code",
   "execution_count": 5,
   "metadata": {},
   "outputs": [
    {
     "name": "stdout",
     "output_type": "stream",
     "text": [
      "You Gussed TOO HIGH\n",
      "you input : 50 and sys input :  10\n",
      "You Gussed TOO HIGH\n",
      "you input : 50 and sys input :  10\n",
      "exited from the game \n"
     ]
    }
   ],
   "source": [
    "# Number Guessing Game: Write a program that generates a random number and asks the user to guess the number.\n",
    "# Provide feedback to the user based on whether their guess is too high or too low until they guess the correct number.\n",
    "import random\n",
    "def RanGuess():\n",
    "\n",
    "    \n",
    "    \n",
    "    while True:\n",
    "        UserInput = input('enter the number : ')\n",
    "        if UserInput.lower() == 'quit':\n",
    "            print('exited from the game ')\n",
    "            break\n",
    "    \n",
    "        try:\n",
    "            Input = int(UserInput)\n",
    "            if Input==SysRan:\n",
    "                print(\"You Guessed Correct\")\n",
    "                print(f\"you input : {Input} and sys input :  {SysRan}\")\n",
    "            elif Input>SysRan:\n",
    "                print(\"You Gussed TOO HIGH\")\n",
    "                print(f\"you input : {Input} and sys input :  {SysRan}\")\n",
    "            else:\n",
    "                print(\"You Guessed TOO LOW\")\n",
    "                print(f\"you input : {Input} and sys input :  {SysRan}\")\n",
    "        except ValueError:\n",
    "            print('Invalid input. Please enter a valid number.')\n",
    "SysRan =random.randrange(0,99)\n",
    "\n",
    "RanGuess()    "
   ]
  },
  {
   "cell_type": "code",
   "execution_count": 2,
   "metadata": {},
   "outputs": [
    {
     "name": "stdout",
     "output_type": "stream",
     "text": [
      "Division successful! Output :5.0\n",
      "Cleaning up resources...\n",
      "Error: Cannot divide by zero!\n",
      "Cleaning up resources...\n"
     ]
    }
   ],
   "source": [
    "# Cleaning Up After Using finally\n",
    "\n",
    "def divide_numbers(a, b):\n",
    "    try:\n",
    "        result = a / b\n",
    "        print(f\"Division successful! Output :{result}\")\n",
    "        try:\n",
    "            print('do something')\n",
    "        except:\n",
    "            print('else do something')\n",
    "    except ZeroDivisionError:\n",
    "        print(\"Error: Cannot divide by zero!\")\n",
    "    finally:\n",
    "        print(\"Cleaning up resources...\")\n",
    "\n",
    "# Example usage\n",
    "divide_numbers(10, 2)\n",
    "\n"
   ]
  },
  {
   "cell_type": "code",
   "execution_count": 21,
   "metadata": {},
   "outputs": [
    {
     "name": "stdout",
     "output_type": "stream",
     "text": [
      "['Hello', 'World']\n",
      "['olleH', 'dlroW']\n"
     ]
    },
    {
     "data": {
      "text/plain": [
       "'olleH dlroW'"
      ]
     },
     "execution_count": 21,
     "metadata": {},
     "output_type": "execute_result"
    }
   ],
   "source": [
    "# Reverse Words: Write a function that takes a sentence as input and returns the sentence with the words reversed.\n",
    "# For example, if the input is \"Hello World\", the output should be \"olleH dlroW\".\n",
    "\n",
    "class ReverseWord:\n",
    "    def __init__(self) :\n",
    "        self.Word = input(\"enter the word\")\n",
    "        \n",
    "   \n",
    "    def Revwrd(self):\n",
    "        spword = self.Word.split()\n",
    "        print(spword)\n",
    "        rev_words = [i[::-1] for i in spword]\n",
    "        print(rev_words)\n",
    "        rev_sentence = ' '.join(rev_words)\n",
    "        return rev_sentence\n",
    "\n",
    "obj = ReverseWord()\n",
    "obj.Revwrd()\n"
   ]
  },
  {
   "cell_type": "code",
   "execution_count": 32,
   "metadata": {},
   "outputs": [
    {
     "data": {
      "text/plain": [
       "['5', '7']"
      ]
     },
     "execution_count": 32,
     "metadata": {},
     "output_type": "execute_result"
    }
   ],
   "source": [
    "# Unique Elements: Write a function that takes a list as input and returns a new list containing only the unique elements \n",
    "# from the original list. For example, if the input is [1, 2, 2, 3, 4, 4, 5], the output should be [1, 2, 3, 4, 5].\n",
    "\n",
    "def UniqueElement():\n",
    "    x = input(\"enter the number\")\n",
    "    elist = []\n",
    "    \n",
    "    for element in x:\n",
    "        if element not in elist:\n",
    "            elist.append(element)\n",
    "    return elist\n",
    "    \n",
    "UniqueElement()"
   ]
  },
  {
   "attachments": {},
   "cell_type": "markdown",
   "metadata": {},
   "source": [
    "Data Types - list , tuple , dict"
   ]
  },
  {
   "attachments": {},
   "cell_type": "markdown",
   "metadata": {},
   "source": [
    "List Problems:"
   ]
  },
  {
   "cell_type": "code",
   "execution_count": 2,
   "metadata": {},
   "outputs": [
    {
     "data": {
      "text/plain": [
       "8"
      ]
     },
     "execution_count": 2,
     "metadata": {},
     "output_type": "execute_result"
    }
   ],
   "source": [
    "# Write a function to find the largest element in a given list.\n",
    "\n",
    "def LargeElement(element):\n",
    "    large_element = element[0]\n",
    "    \n",
    "    for e in element:\n",
    "        if e>large_element:\n",
    "            large_element=+e\n",
    "    return large_element\n",
    "\n",
    "li = [1,6,8,0]\n",
    "\n",
    "LargeElement(li)"
   ]
  },
  {
   "cell_type": "code",
   "execution_count": 11,
   "metadata": {},
   "outputs": [
    {
     "name": "stdout",
     "output_type": "stream",
     "text": [
      "[1, 2, 5, 6]\n",
      "[1, 2, 5, 6]\n"
     ]
    }
   ],
   "source": [
    "# Create a program that removes all duplicates from a list while preserving the order of elements\n",
    "\n",
    "list = [1,2,2,5,6]\n",
    "new_list = []\n",
    "for num in list:\n",
    "    if num not in new_list:\n",
    "        new_list.append(num)\n",
    "    \n",
    "print(new_list)\n",
    "\n",
    "# or\n",
    "\n",
    "list = [1, 2, 2, 5, 6]\n",
    "new_list = [num for i, num in enumerate(list) if num not in list[:i]]\n",
    "\n",
    "print(new_list)\n"
   ]
  },
  {
   "attachments": {},
   "cell_type": "markdown",
   "metadata": {},
   "source": [
    "Tuple Problems\n"
   ]
  },
  {
   "cell_type": "code",
   "execution_count": 18,
   "metadata": {},
   "outputs": [
    {
     "data": {
      "text/plain": [
       "23"
      ]
     },
     "execution_count": 18,
     "metadata": {},
     "output_type": "execute_result"
    }
   ],
   "source": [
    "#  Create a function to find the sum of all elements in a tuple.\n",
    "def TupleFunction():\n",
    "    tup = (1,5,8,9)\n",
    "    total = 0\n",
    "    for num in tup:\n",
    "        total += num\n",
    "    return total\n",
    "    \n",
    "    \n",
    "TupleFunction()"
   ]
  },
  {
   "cell_type": "code",
   "execution_count": 21,
   "metadata": {},
   "outputs": [
    {
     "data": {
      "text/plain": [
       "{'a': 1, 'b': 2, 'c': 3, 'd': 4}"
      ]
     },
     "execution_count": 21,
     "metadata": {},
     "output_type": "execute_result"
    }
   ],
   "source": [
    "def MergeDct(dict1,dict2):\n",
    "    \n",
    "    merged_dict = {**dict1,**dict2}\n",
    "    return merged_dict\n",
    "\n",
    "x = {\"a\": 1, \"b\": 2}\n",
    "y = {\"c\": 3, \"d\": 4}\n",
    "MergeDct(x,y)\n",
    "\n"
   ]
  },
  {
   "cell_type": "code",
   "execution_count": 23,
   "metadata": {},
   "outputs": [
    {
     "data": {
      "text/plain": [
       "{'b', 'c'}"
      ]
     },
     "execution_count": 23,
     "metadata": {},
     "output_type": "execute_result"
    }
   ],
   "source": [
    "def CommonKey(dict1,dict2):\n",
    "    commonkey = dict1.keys() & dict2.keys()\n",
    "    return commonkey\n",
    "\n",
    "dict1 = {\"a\": 1, \"b\": 2, \"c\": 3}\n",
    "dict2 = {\"b\": 4, \"c\": 5, \"d\": 6}\n",
    "\n",
    "CommonKey(dict1,dict2)"
   ]
  },
  {
   "cell_type": "code",
   "execution_count": 24,
   "metadata": {},
   "outputs": [
    {
     "data": {
      "text/plain": [
       "'PZvh@_\\x08\\x04'"
      ]
     },
     "execution_count": 24,
     "metadata": {},
     "output_type": "execute_result"
    }
   ],
   "source": [
    "import random\n",
    "import string\n",
    "class PasswordGenerator:\n",
    "    def __init__(self) -> None:\n",
    "        self.UppercaseLetter1 = chr(random.randint(65,90))\n",
    "        \n",
    "        self.UppercaseLetter2 = chr(random.randint(65,90))\n",
    "        \n",
    "        self.LowercaseLetter1 = chr(random.randint(97,122))\n",
    "        \n",
    "        self.LowercaseLetter2 = chr(random.randint(97,122))\n",
    "        \n",
    "        self.Digit1 = chr(random.randrange(0,9))\n",
    "        \n",
    "        self.Digit2 = chr(random.randrange(0,9))\n",
    "        \n",
    "        self.PunctualtionSign1 =random.choice(string.punctuation)\n",
    "        \n",
    "        self.PunctualtionSign2 =random.choice(string.punctuation)\n",
    "        \n",
    "        def password(password):\n",
    "        # Convert the password string to a list of characters\n",
    "         password_list = list(password)\n",
    "        \n",
    "        # Shuffle the list\n",
    "         random.shuffle(password_list)\n",
    "        \n",
    "        # Convert the shuffled list back to a string\n",
    "         shuffled_password = ''.join(password_list)\n",
    "        \n",
    "         return shuffled_password\n",
    "            \n",
    "    def PasswordCreation(self):\n",
    "\n",
    "        Password = self.UppercaseLetter1+self.UppercaseLetter2+self.LowercaseLetter1+self.LowercaseLetter2+self.PunctualtionSign1+self.PunctualtionSign2+self.Digit1+self.Digit2\n",
    "        \n",
    "        return Password\n",
    "\n",
    "generator = PasswordGenerator()\n",
    "\n",
    "generator.password()"
   ]
  },
  {
   "cell_type": "code",
   "execution_count": 6,
   "metadata": {},
   "outputs": [
    {
     "name": "stdout",
     "output_type": "stream",
     "text": [
      " Count Of Valid String  0\n",
      " inCount Of Valid String  4\n"
     ]
    }
   ],
   "source": [
    "# Question 1\n",
    "\n",
    "# Write a python code to print the count of valid strings \n",
    "# and invalid strings from a given list of strings\n",
    "\n",
    "# A string is considered as valid if it contains combinations\n",
    "# of alphabetes (in upper case or lower case) with/without \n",
    "# spaces.\n",
    "\n",
    "# Define a function to check if a given string is valid or not\n",
    "# i.e if it contains combination of alphabetes.\n",
    "\n",
    "# This function will take string as input and return True \n",
    "# if the string is valid, otherwise will return False.\n",
    "\n",
    "# Example:\n",
    "\n",
    "# Input:\n",
    "# 4\n",
    "# HelloGood Morning\n",
    "# abcd123Fghy\n",
    "# India\n",
    "# Progoto.c\n",
    "\n",
    "# Output:\n",
    "# Count Of Valid String = 2\n",
    "# Count of Invalid String = 2\n",
    "\n",
    "def isValidString(string):\n",
    "    for char in string:\n",
    "        if not char.isalpha() and char!=\" \":\n",
    "            return False\n",
    "    return True\n",
    "\n",
    "def CheckString():\n",
    "    validstring = 0\n",
    "    invalidstring = 0\n",
    "    \n",
    "    for string in strLis:\n",
    "        if isValidString(string):\n",
    "            validstring +=1\n",
    "            \n",
    "        else:\n",
    "            invalidstring +=1\n",
    "            \n",
    "    return[validstring,invalidstring]\n",
    "     \n",
    "strLis = []\n",
    "for i in range(int(input())):\n",
    "    strLis.append(input())\n",
    "    \n",
    "valid,invalid = CheckString()\n",
    "\n",
    "print(\" Count Of Valid String \",valid)\n",
    "print(\" inCount Of Valid String \",invalid)"
   ]
  },
  {
   "cell_type": "code",
   "execution_count": 29,
   "metadata": {},
   "outputs": [
    {
     "name": "stdout",
     "output_type": "stream",
     "text": [
      "0\n",
      "string index  0\n"
     ]
    }
   ],
   "source": [
    "\n",
    "\n",
    "def FindIndex(st,s):\n",
    "        for _ in range(len(st)):\n",
    "            if st[_] == s:\n",
    "                return _\n",
    "\n",
    "\n",
    "strlist =[]\n",
    "\n",
    "\n",
    "for _ in range(int(input(\"enter the num\"))):\n",
    "    strlist.append(input(\"enter the num of string\"))\n",
    "    \n",
    "strs = input(\"enter string \")\n",
    "\n",
    "obj = FindIndex(strlist,strs)\n",
    "print(obj)\n",
    "if obj == -1 :\n",
    "    print(\"string not found\")\n",
    "else:\n",
    "    print(f\"string index \",obj)\n",
    "\n",
    "    "
   ]
  },
  {
   "cell_type": "code",
   "execution_count": 32,
   "metadata": {},
   "outputs": [
    {
     "name": "stdout",
     "output_type": "stream",
     "text": [
      "3\n",
      "tha\n"
     ]
    }
   ],
   "source": [
    "str1 =input(\"enter the string : \" )\n",
    "\n",
    "value_N = int(input(\"enter the number : \"))\n",
    "\n",
    "\n",
    "middel =int(len(str1)/2)\n",
    "\n",
    "finds = str1[middel:middel+value_N]\n",
    "print(middel)\n",
    "\n",
    "print(finds)"
   ]
  },
  {
   "cell_type": "code",
   "execution_count": 44,
   "metadata": {},
   "outputs": [
    {
     "name": "stdout",
     "output_type": "stream",
     "text": [
      "Valid string\n"
     ]
    }
   ],
   "source": [
    "str1 = input(\"Enter the first string: \")\n",
    "str2 = input(\"Enter the second string: \")\n",
    "\n",
    "valid = False\n",
    "for char in str1:\n",
    "    if char not in str2:\n",
    "        valid = True\n",
    "        break\n",
    "\n",
    "if valid:\n",
    "    print(\"Valid string\")\n",
    "else:\n",
    "    print(\"Invalid string\")\n"
   ]
  }
 ],
 "metadata": {
  "kernelspec": {
   "display_name": "Python 3",
   "language": "python",
   "name": "python3"
  },
  "language_info": {
   "codemirror_mode": {
    "name": "ipython",
    "version": 3
   },
   "file_extension": ".py",
   "mimetype": "text/x-python",
   "name": "python",
   "nbconvert_exporter": "python",
   "pygments_lexer": "ipython3",
   "version": "3.9.13"
  },
  "orig_nbformat": 4
 },
 "nbformat": 4,
 "nbformat_minor": 2
}
