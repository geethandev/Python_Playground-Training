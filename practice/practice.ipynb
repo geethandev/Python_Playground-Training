{
 "cells": [
  {
   "cell_type": "code",
   "execution_count": 6,
   "metadata": {},
   "outputs": [],
   "source": [
    "# Write a program that takes two numbers as input and calculates their\n",
    "# sum, difference, product, and quotient.\n",
    "\n",
    "#sum\n",
    "print(\"sum : \",(lambda x,y:x+y)(int(input(\"enter the number 1:\" )),int(input(\"enter the number 2:\" ))))\n",
    "\n",
    "#difference\n",
    "print(\"diffrence: \",(lambda x,y:x-y)(int(input(\"enter the number 1:\" )),int(input(\"enter the number 2:\" ))))\n",
    "\n",
    "# product\n",
    "print(\"sum : \",(lambda x,y:x*y)(int(input(\"enter the number 1:\" )),int(input(\"enter the number 2:\" ))))\n",
    "\n",
    "# quotient\n",
    "print(\"sum : \",(lambda x,y:x/y)(int(input(\"enter the number 1:\" )),int(input(\"enter the number 2:\" ))))\n",
    "\n",
    "\n"
   ]
  },
  {
   "cell_type": "code",
   "execution_count": 11,
   "metadata": {},
   "outputs": [
    {
     "name": "stdout",
     "output_type": "stream",
     "text": [
      "area : 7850.0\n"
     ]
    }
   ],
   "source": [
    "# Write a program that takes the radius of a\n",
    "# circle as input and calculates its area and circumference.\n",
    "\n",
    "class circule:\n",
    "    def __init__(self):\n",
    "        self.radius = int(input(\"enter\"))\n",
    "\n",
    "    def cal_area(self):\n",
    "        area =3.14*(self.radius**2)\n",
    "        print(\"area :\" , area)\n",
    "\n",
    "#create a instance to accesss the class\n",
    "circle = circule()\n",
    "\n",
    "# call the class.object\n",
    "\n",
    "circle.cal_area()"
   ]
  },
  {
   "cell_type": "code",
   "execution_count": 15,
   "metadata": {},
   "outputs": [
    {
     "name": "stdout",
     "output_type": "stream",
     "text": [
      "the celsius is :  2760.0 c\n"
     ]
    }
   ],
   "source": [
    "class digconv:\n",
    "    def __init__(self) :\n",
    "        self.farenheit = float(input(\"enter the fren :\"))\n",
    "        \n",
    "    def conv(self):\n",
    "        celsius = (self.farenheit-32)*5/9\n",
    "        print(\"the celsius is : \" ,celsius,\"C\")\n",
    "\n",
    "convert = digconv()\n",
    "\n",
    "convert.conv()"
   ]
  },
  {
   "cell_type": "code",
   "execution_count": 17,
   "metadata": {},
   "outputs": [
    {
     "name": "stdout",
     "output_type": "stream",
     "text": [
      "20\n",
      "10\n"
     ]
    }
   ],
   "source": [
    "# Write a program that swaps the values of two variables without using a temporary variable.\n",
    "\n",
    "\n",
    "a = 10\n",
    "b = 20\n",
    "\n",
    "c = b\n",
    "b = a\n",
    "a = c\n",
    "\n",
    "print(a)\n",
    "print(b)"
   ]
  },
  {
   "attachments": {},
   "cell_type": "markdown",
   "metadata": {},
   "source": [
    "Conditional"
   ]
  },
  {
   "cell_type": "code",
   "execution_count": 19,
   "metadata": {},
   "outputs": [
    {
     "name": "stdout",
     "output_type": "stream",
     "text": [
      "1\n",
      "2\n",
      "3\n",
      "4\n",
      "5\n",
      "6\n",
      "7\n",
      "8\n",
      "9\n",
      "10\n",
      "11\n",
      "12\n",
      "13\n",
      "14\n",
      "15\n",
      "16\n",
      "17\n",
      "18\n",
      "19\n",
      "20\n",
      "21\n",
      "22\n",
      "23\n",
      "24\n",
      "25\n",
      "26\n",
      "27\n",
      "28\n",
      "29\n",
      "30\n",
      "31\n",
      "32\n",
      "33\n",
      "34\n",
      "35\n",
      "36\n",
      "37\n",
      "38\n",
      "39\n",
      "40\n",
      "41\n",
      "42\n",
      "43\n",
      "44\n",
      "45\n",
      "46\n",
      "47\n",
      "48\n",
      "49\n"
     ]
    },
    {
     "data": {
      "text/plain": [
       "50"
      ]
     },
     "execution_count": 19,
     "metadata": {},
     "output_type": "execute_result"
    }
   ],
   "source": [
    "# Write a program that prints all even numbers from 1 to 20 using a while loop.\n",
    "\n",
    "class lop:\n",
    "    def __init__(self) -> None:\n",
    "        self.i = 1\n",
    "        while  self.i < 50:\n",
    "             print(self.i)\n",
    "             self.i +=1\n",
    "             \n",
    "obj= lop()\n",
    "obj.i"
   ]
  },
  {
   "cell_type": "code",
   "execution_count": 21,
   "metadata": {},
   "outputs": [
    {
     "name": "stdout",
     "output_type": "stream",
     "text": [
      "5\n",
      "s\n",
      "d\n",
      "d\n"
     ]
    }
   ],
   "source": [
    "\n",
    "while True:\n",
    "    inp = input(\"enter \").lower()\n",
    "    \n",
    "    if inp ==\"quit\":\n",
    "        break\n",
    "    else:\n",
    "        print(inp)\n",
    "    \n",
    "    "
   ]
  },
  {
   "cell_type": "code",
   "execution_count": 23,
   "metadata": {},
   "outputs": [
    {
     "data": {
      "text/plain": [
       "12655723162254307425418678245150829297671403862274660768187828858528140823147351237817802795619571074765208532598060224803240903782164769430795025578054271906283387643826088448124626488332623608376164081221171179439885840257818732919037889603719186743943363062139593784473922231852782547619771723889252476871186000174697934549112845662596182308280390615184691924446215552586523740084932807259056238962104689731522587564412231618018774350801526839567367444928206231310973619440354723718012867753019556135721376207959558860559933052856914157120622980057169891912595926540427596853441276985006724869558201930657900240943007657817473684008944448183219124163017666607770667585082169598239230274035517738648065600492702095732843492708856036920219883363111527988109277392696562776813446645651238419301586157342867860646666350050113314787911320639668510871569846664873595017518995670958477806411667505346462590471136862647349666243426242677175204732314281064417939041868653741187423064985189556742640111598580035644021835576715752869397465453828584471291269955890393294448315746500268702149708808053100406398480942695623586049403348084970064668900206251516968479727515576425962392136269169089884609794271331061018895634421094082310408889752954265842691732460538911784960000000000000000000000000000000000000000000000000000000000000000000000000000000000000000000000000000000000000000000000000000000000000000000000000000"
      ]
     },
     "execution_count": 23,
     "metadata": {},
     "output_type": "execute_result"
    }
   ],
   "source": [
    "def fac(n):\n",
    "    if n==0 or n==1:\n",
    "        return 1\n",
    "    else:\n",
    "        return n*fac(n-1)\n",
    "    \n",
    "fac(600)\n",
    "    "
   ]
  },
  {
   "cell_type": "code",
   "execution_count": 9,
   "metadata": {},
   "outputs": [
    {
     "name": "stdout",
     "output_type": "stream",
     "text": [
      "number 20\n"
     ]
    }
   ],
   "source": [
    "# lis = [1,2,5,8,9,20,40,7]\n",
    "\n",
    "# s=sorted(lis)\n",
    "# print(s[-1])\n",
    "\n",
    "# or\n",
    "\n",
    "def findgrater(numbers):\n",
    "    graternumber = numbers[0]\n",
    "    for num in numbers:\n",
    "        if num > graternumber:\n",
    "            graternumber = num\n",
    "    print(\"number\",graternumber)\n",
    "\n",
    "\n",
    "\n",
    "# Example usage\n",
    "number_list = [10, 5, 20, 15, 8]\n",
    "findgrater(number_list)"
   ]
  },
  {
   "cell_type": "code",
   "execution_count": 11,
   "metadata": {},
   "outputs": [
    {
     "data": {
      "text/plain": [
       "'hello there'"
      ]
     },
     "execution_count": 11,
     "metadata": {},
     "output_type": "execute_result"
    }
   ],
   "source": [
    "# Write a program that takes a list of strings and concatenates them into a single string.\n",
    "\n",
    "def strconcat(string):\n",
    "    out = ' '.join(string)\n",
    "    return out\n",
    "string = ['hello','there']\n",
    "\n",
    "strconcat(string)"
   ]
  },
  {
   "cell_type": "code",
   "execution_count": 20,
   "metadata": {},
   "outputs": [
    {
     "data": {
      "text/plain": [
       "['h', 'm']"
      ]
     },
     "execution_count": 20,
     "metadata": {},
     "output_type": "execute_result"
    }
   ],
   "source": [
    "# Write a program that removes duplicates from a list.\n",
    "\n",
    "def missionremove(string):\n",
    "    newlist = []\n",
    "    \n",
    "    for i in string:\n",
    "        if i not in newlist:\n",
    "            newlist.append(i)\n",
    "    return newlist\n",
    "            \n",
    "n = ['h','h','m'] \n",
    "missionremove(n)       \n"
   ]
  },
  {
   "cell_type": "code",
   "execution_count": 27,
   "metadata": {},
   "outputs": [
    {
     "name": "stdout",
     "output_type": "stream",
     "text": [
      "F\n"
     ]
    }
   ],
   "source": [
    "# Grade Classification: Write a program that takes a student's score as input and prints their corresponding grade based on the following conditions:\n",
    "\n",
    "# 90 or above: \"A\"\n",
    "# 80-89: \"B\"\n",
    "# 70-79: \"C\"\n",
    "# 60-69: \"D\"\n",
    "# Below 60: \"F\"\n",
    "\n",
    "class studentscore:\n",
    "    def __init__(self) :\n",
    "        self.score = int(input())\n",
    "        \n",
    "    def calscore(self):\n",
    "        \n",
    "        if self.score >90:\n",
    "            print(\"A\")\n",
    "        elif self.score>=80 and self.score<=89:\n",
    "            print(\"B\")\n",
    "        elif self.score>=70 and self.score<=79:\n",
    "            print(\"C\")\n",
    "        elif self.score>=60 and self.score<=69:\n",
    "            print(\"D\")\n",
    "        elif self.score<60:\n",
    "            print(\"F\")\n",
    "\n",
    "obj = studentscore()\n",
    "\n",
    "obj.calscore()\n",
    "      \n"
   ]
  },
  {
   "cell_type": "code",
   "execution_count": 32,
   "metadata": {},
   "outputs": [
    {
     "name": "stdout",
     "output_type": "stream",
     "text": [
      "number 50\n",
      "number 80\n"
     ]
    }
   ],
   "source": [
    "# Number Comparison: Write a program that takes three numbers as input and prints the largest and smallest numbers among them\n",
    "\n",
    "\n",
    "\n",
    "class find:\n",
    "    def __init__(self) :\n",
    "        self.num1 = int(input(\"entrer the num 1\"))\n",
    "        self.num2 = int(input(\"entrer the num 1\"))\n",
    "        self.num3 = int(input(\"entrer the num 1\"))\n",
    "        \n",
    "    def highorlow(self): \n",
    "        smallest = self.num1\n",
    "        if self.num2 < smallest:\n",
    "            smallest = self.num2\n",
    "        if self.num3 < smallest:\n",
    "            smallest = self.num3\n",
    "        print(\"number\",smallest)\n",
    "        high = self.num1\n",
    "        if self.num2 > high:\n",
    "            high = self.num2\n",
    "        if self.num3 > high:\n",
    "            high = self.num3\n",
    "        print(\"number\",high)\n",
    "    \n",
    "obj = find()\n",
    "\n",
    "obj.highorlow()"
   ]
  },
  {
   "cell_type": "code",
   "execution_count": 36,
   "metadata": {},
   "outputs": [
    {
     "name": "stdout",
     "output_type": "stream",
     "text": [
      "h palindorme\n"
     ]
    }
   ],
   "source": [
    "class palidonrome:\n",
    "    def __init__(self) -> None:\n",
    "        self.string = str(input(\"enter the string: \")).lower().replace(\" \",\"\")\n",
    "        \n",
    "    def findpal(self):\n",
    "        if self.string  == self.string[::-1]:\n",
    "            print(f\"{self.string} is palindorme\")\n",
    "        else :\n",
    "            print(f\"{self.string} not a palindrome\")\n",
    "\n",
    "obj = palidonrome()\n",
    "obj.findpal()\n",
    "    "
   ]
  },
  {
   "cell_type": "code",
   "execution_count": 7,
   "metadata": {},
   "outputs": [
    {
     "data": {
      "text/plain": [
       "'The string contains a vowel.'"
      ]
     },
     "execution_count": 7,
     "metadata": {},
     "output_type": "execute_result"
    }
   ],
   "source": [
    "# Vowel or Consonant: Write a program that takes a letter as input and determines whether it is a vowel or a consonant.\n",
    "# Handle both lowercase and uppercase letters.\n",
    "\n",
    "\n",
    "\n",
    "def FindVC(string):\n",
    "    vowels = ['a', 'e', 'i', 'o', 'u']\n",
    "    lowercase_string = string.lower()\n",
    "    \n",
    "    for v in vowels:    \n",
    "        if v in lowercase_string:\n",
    "            return \"The string contains a vowel.\"\n",
    "        elif lowercase_string.isalpha():\n",
    "            return \"The string does not contain a vowel.\"\n",
    "        else:\n",
    "            return \"Invalid input.\"\n",
    "\n",
    "# Example usage\n",
    "\n",
    "FindVC( input(\"Enter a string: \"))\n",
    "\n",
    "\n",
    "    \n"
   ]
  },
  {
   "cell_type": "code",
   "execution_count": 5,
   "metadata": {},
   "outputs": [
    {
     "name": "stdout",
     "output_type": "stream",
     "text": [
      "You Gussed TOO HIGH\n",
      "you input : 50 and sys input :  10\n",
      "You Gussed TOO HIGH\n",
      "you input : 50 and sys input :  10\n",
      "exited from the game \n"
     ]
    }
   ],
   "source": [
    "# Number Guessing Game: Write a program that generates a random number and asks the user to guess the number.\n",
    "# Provide feedback to the user based on whether their guess is too high or too low until they guess the correct number.\n",
    "import random\n",
    "def RanGuess():\n",
    "\n",
    "    \n",
    "    \n",
    "    while True:\n",
    "        UserInput = input('enter the number : ')\n",
    "        if UserInput.lower() == 'quit':\n",
    "            print('exited from the game ')\n",
    "            break\n",
    "    \n",
    "        try:\n",
    "            Input = int(UserInput)\n",
    "            if Input==SysRan:\n",
    "                print(\"You Guessed Correct\")\n",
    "                print(f\"you input : {Input} and sys input :  {SysRan}\")\n",
    "            elif Input>SysRan:\n",
    "                print(\"You Gussed TOO HIGH\")\n",
    "                print(f\"you input : {Input} and sys input :  {SysRan}\")\n",
    "            else:\n",
    "                print(\"You Guessed TOO LOW\")\n",
    "                print(f\"you input : {Input} and sys input :  {SysRan}\")\n",
    "        except ValueError:\n",
    "            print('Invalid input. Please enter a valid number.')\n",
    "SysRan =random.randrange(0,99)\n",
    "\n",
    "RanGuess()    "
   ]
  },
  {
   "cell_type": "code",
   "execution_count": 2,
   "metadata": {},
   "outputs": [
    {
     "name": "stdout",
     "output_type": "stream",
     "text": [
      "Division successful! Output :5.0\n",
      "Cleaning up resources...\n",
      "Error: Cannot divide by zero!\n",
      "Cleaning up resources...\n"
     ]
    }
   ],
   "source": [
    "# Cleaning Up After Using finally\n",
    "\n",
    "def divide_numbers(a, b):\n",
    "    try:\n",
    "        result = a / b\n",
    "        print(f\"Division successful! Output :{result}\")\n",
    "        try:\n",
    "            print('do something')\n",
    "        except:\n",
    "            print('else do something')\n",
    "    except ZeroDivisionError:\n",
    "        print(\"Error: Cannot divide by zero!\")\n",
    "    finally:\n",
    "        print(\"Cleaning up resources...\")\n",
    "\n",
    "# Example usage\n",
    "divide_numbers(10, 2)\n",
    "\n"
   ]
  },
  {
   "cell_type": "code",
   "execution_count": 21,
   "metadata": {},
   "outputs": [
    {
     "name": "stdout",
     "output_type": "stream",
     "text": [
      "['Hello', 'World']\n",
      "['olleH', 'dlroW']\n"
     ]
    },
    {
     "data": {
      "text/plain": [
       "'olleH dlroW'"
      ]
     },
     "execution_count": 21,
     "metadata": {},
     "output_type": "execute_result"
    }
   ],
   "source": [
    "# Reverse Words: Write a function that takes a sentence as input and returns the sentence with the words reversed.\n",
    "# For example, if the input is \"Hello World\", the output should be \"olleH dlroW\".\n",
    "\n",
    "class ReverseWord:\n",
    "    def __init__(self) :\n",
    "        self.Word = input(\"enter the word\")\n",
    "        \n",
    "   \n",
    "    def Revwrd(self):\n",
    "        spword = self.Word.split()\n",
    "        print(spword)\n",
    "        rev_words = [i[::-1] for i in spword]\n",
    "        print(rev_words)\n",
    "        rev_sentence = ' '.join(rev_words)\n",
    "        return rev_sentence\n",
    "\n",
    "obj = ReverseWord()\n",
    "obj.Revwrd()\n"
   ]
  },
  {
   "cell_type": "code",
   "execution_count": 32,
   "metadata": {},
   "outputs": [
    {
     "data": {
      "text/plain": [
       "['5', '7']"
      ]
     },
     "execution_count": 32,
     "metadata": {},
     "output_type": "execute_result"
    }
   ],
   "source": [
    "# Unique Elements: Write a function that takes a list as input and returns a new list containing only the unique elements \n",
    "# from the original list. For example, if the input is [1, 2, 2, 3, 4, 4, 5], the output should be [1, 2, 3, 4, 5].\n",
    "\n",
    "def UniqueElement():\n",
    "    x = input(\"enter the number\")\n",
    "    elist = []\n",
    "    \n",
    "    for element in x:\n",
    "        if element not in elist:\n",
    "            elist.append(element)\n",
    "    return elist\n",
    "    \n",
    "UniqueElement()"
   ]
  },
  {
   "attachments": {},
   "cell_type": "markdown",
   "metadata": {},
   "source": [
    "Data Types - list , tuple , dict"
   ]
  },
  {
   "attachments": {},
   "cell_type": "markdown",
   "metadata": {},
   "source": [
    "List Problems:"
   ]
  },
  {
   "cell_type": "code",
   "execution_count": 2,
   "metadata": {},
   "outputs": [
    {
     "data": {
      "text/plain": [
       "8"
      ]
     },
     "execution_count": 2,
     "metadata": {},
     "output_type": "execute_result"
    }
   ],
   "source": [
    "# Write a function to find the largest element in a given list.\n",
    "\n",
    "def LargeElement(element):\n",
    "    large_element = element[0]\n",
    "    \n",
    "    for e in element:\n",
    "        if e>large_element:\n",
    "            large_element=+e\n",
    "    return large_element\n",
    "\n",
    "li = [1,6,8,0]\n",
    "\n",
    "LargeElement(li)"
   ]
  },
  {
   "cell_type": "code",
   "execution_count": 11,
   "metadata": {},
   "outputs": [
    {
     "name": "stdout",
     "output_type": "stream",
     "text": [
      "[1, 2, 5, 6]\n",
      "[1, 2, 5, 6]\n"
     ]
    }
   ],
   "source": [
    "# Create a program that removes all duplicates from a list while preserving the order of elements\n",
    "\n",
    "list = [1,2,2,5,6]\n",
    "new_list = []\n",
    "for num in list:\n",
    "    if num not in new_list:\n",
    "        new_list.append(num)\n",
    "    \n",
    "print(new_list)\n",
    "\n",
    "# or\n",
    "\n",
    "list = [1, 2, 2, 5, 6]\n",
    "new_list = [num for i, num in enumerate(list) if num not in list[:i]]\n",
    "\n",
    "print(new_list)\n"
   ]
  },
  {
   "attachments": {},
   "cell_type": "markdown",
   "metadata": {},
   "source": [
    "Tuple Problems\n"
   ]
  },
  {
   "cell_type": "code",
   "execution_count": 18,
   "metadata": {},
   "outputs": [
    {
     "data": {
      "text/plain": [
       "23"
      ]
     },
     "execution_count": 18,
     "metadata": {},
     "output_type": "execute_result"
    }
   ],
   "source": [
    "#  Create a function to find the sum of all elements in a tuple.\n",
    "def TupleFunction():\n",
    "    tup = (1,5,8,9)\n",
    "    total = 0\n",
    "    for num in tup:\n",
    "        total += num\n",
    "    return total\n",
    "    \n",
    "    \n",
    "TupleFunction()"
   ]
  },
  {
   "cell_type": "code",
   "execution_count": 21,
   "metadata": {},
   "outputs": [
    {
     "data": {
      "text/plain": [
       "{'a': 1, 'b': 2, 'c': 3, 'd': 4}"
      ]
     },
     "execution_count": 21,
     "metadata": {},
     "output_type": "execute_result"
    }
   ],
   "source": [
    "def MergeDct(dict1,dict2):\n",
    "    \n",
    "    merged_dict = {**dict1,**dict2}\n",
    "    return merged_dict\n",
    "\n",
    "x = {\"a\": 1, \"b\": 2}\n",
    "y = {\"c\": 3, \"d\": 4}\n",
    "MergeDct(x,y)\n",
    "\n"
   ]
  },
  {
   "cell_type": "code",
   "execution_count": 23,
   "metadata": {},
   "outputs": [
    {
     "data": {
      "text/plain": [
       "{'b', 'c'}"
      ]
     },
     "execution_count": 23,
     "metadata": {},
     "output_type": "execute_result"
    }
   ],
   "source": [
    "def CommonKey(dict1,dict2):\n",
    "    commonkey = dict1.keys() & dict2.keys()\n",
    "    return commonkey\n",
    "\n",
    "dict1 = {\"a\": 1, \"b\": 2, \"c\": 3}\n",
    "dict2 = {\"b\": 4, \"c\": 5, \"d\": 6}\n",
    "\n",
    "CommonKey(dict1,dict2)"
   ]
  },
  {
   "cell_type": "code",
   "execution_count": 24,
   "metadata": {},
   "outputs": [
    {
     "data": {
      "text/plain": [
       "'PZvh@_\\x08\\x04'"
      ]
     },
     "execution_count": 24,
     "metadata": {},
     "output_type": "execute_result"
    }
   ],
   "source": [
    "import random\n",
    "import string\n",
    "class PasswordGenerator:\n",
    "    def __init__(self) -> None:\n",
    "        self.UppercaseLetter1 = chr(random.randint(65,90))\n",
    "        \n",
    "        self.UppercaseLetter2 = chr(random.randint(65,90))\n",
    "        \n",
    "        self.LowercaseLetter1 = chr(random.randint(97,122))\n",
    "        \n",
    "        self.LowercaseLetter2 = chr(random.randint(97,122))\n",
    "        \n",
    "        self.Digit1 = chr(random.randrange(0,9))\n",
    "        \n",
    "        self.Digit2 = chr(random.randrange(0,9))\n",
    "        \n",
    "        self.PunctualtionSign1 =random.choice(string.punctuation)\n",
    "        \n",
    "        self.PunctualtionSign2 =random.choice(string.punctuation)\n",
    "        \n",
    "        def password(password):\n",
    "        # Convert the password string to a list of characters\n",
    "         password_list = list(password)\n",
    "        \n",
    "        # Shuffle the list\n",
    "         random.shuffle(password_list)\n",
    "        \n",
    "        # Convert the shuffled list back to a string\n",
    "         shuffled_password = ''.join(password_list)\n",
    "        \n",
    "         return shuffled_password\n",
    "            \n",
    "    def PasswordCreation(self):\n",
    "\n",
    "        Password = self.UppercaseLetter1+self.UppercaseLetter2+self.LowercaseLetter1+self.LowercaseLetter2+self.PunctualtionSign1+self.PunctualtionSign2+self.Digit1+self.Digit2\n",
    "        \n",
    "        return Password\n",
    "\n",
    "generator = PasswordGenerator()\n",
    "\n",
    "generator.password()"
   ]
  },
  {
   "cell_type": "code",
   "execution_count": 10,
   "metadata": {},
   "outputs": [
    {
     "name": "stdout",
     "output_type": "stream",
     "text": [
      " Count Of Valid String  2\n",
      " inCount Of Valid String  2\n"
     ]
    }
   ],
   "source": [
    "# Question 1\n",
    "\n",
    "# Write a python code to print the count of valid strings \n",
    "# and invalid strings from a given list of strings\n",
    "\n",
    "# A string is considered as valid if it contains combinations\n",
    "# of alphabetes (in upper case or lower case) with/without \n",
    "# spaces.\n",
    "\n",
    "# Define a function to check if a given string is valid or not\n",
    "# i.e if it contains combination of alphabetes.\n",
    "\n",
    "# This function will take string as input and return True \n",
    "# if the string is valid, otherwise will return False.\n",
    "\n",
    "# Example:\n",
    "\n",
    "# Input:\n",
    "# 4\n",
    "# HelloGood Morning\n",
    "# abcd123Fghy\n",
    "# India\n",
    "# Progoto.c\n",
    "\n",
    "# Output:\n",
    "# Count Of Valid String = 2\n",
    "# Count of Invalid String = 2\n",
    "\n",
    "def isValidString(string):\n",
    "    for char in string:\n",
    "        if not char.isalpha() and char!=\" \":\n",
    "            return False\n",
    "    return True\n",
    "\n",
    "def CheckString():\n",
    "    validstring = 0\n",
    "    invalidstring = 0\n",
    "    \n",
    "    for string in strLis:\n",
    "        if isValidString(string):\n",
    "            validstring +=1\n",
    "            \n",
    "        else:\n",
    "            invalidstring +=1\n",
    "            \n",
    "    return[validstring,invalidstring]\n",
    "     \n",
    "strLis = []\n",
    "for i in range(int(input())):\n",
    "    strLis.append(input())\n",
    "    \n",
    "valid,invalid = CheckString()\n",
    "\n",
    "print(\" Count Of Valid String \",valid)\n",
    "print(\" inCount Of Valid String \",invalid)"
   ]
  },
  {
   "cell_type": "code",
   "execution_count": 29,
   "metadata": {},
   "outputs": [
    {
     "name": "stdout",
     "output_type": "stream",
     "text": [
      "0\n",
      "string index  0\n"
     ]
    }
   ],
   "source": [
    "\n",
    "\n",
    "def FindIndex(st,s):\n",
    "        for _ in range(len(st)):\n",
    "            if st[_] == s:\n",
    "                return _\n",
    "\n",
    "\n",
    "strlist =[]\n",
    "\n",
    "\n",
    "for _ in range(int(input(\"enter the num\"))):\n",
    "    strlist.append(input(\"enter the num of string\"))\n",
    "    \n",
    "strs = input(\"enter string \")\n",
    "\n",
    "obj = FindIndex(strlist,strs)\n",
    "print(obj)\n",
    "if obj == -1 :\n",
    "    print(\"string not found\")\n",
    "else:\n",
    "    print(f\"string index \",obj)\n",
    "\n",
    "    "
   ]
  },
  {
   "cell_type": "code",
   "execution_count": 32,
   "metadata": {},
   "outputs": [
    {
     "name": "stdout",
     "output_type": "stream",
     "text": [
      "3\n",
      "tha\n"
     ]
    }
   ],
   "source": [
    "str1 =input(\"enter the string : \" )\n",
    "\n",
    "value_N = int(input(\"enter the number : \"))\n",
    "\n",
    "\n",
    "middel =int(len(str1)/2)\n",
    "\n",
    "finds = str1[middel:middel+value_N]\n",
    "print(middel)\n",
    "\n",
    "print(finds)"
   ]
  },
  {
   "cell_type": "code",
   "execution_count": 44,
   "metadata": {},
   "outputs": [
    {
     "name": "stdout",
     "output_type": "stream",
     "text": [
      "Valid string\n"
     ]
    }
   ],
   "source": [
    "str1 = input(\"Enter the first string: \")\n",
    "str2 = input(\"Enter the second string: \")\n",
    "\n",
    "valid = False\n",
    "for char in str1:\n",
    "    if char not in str2:\n",
    "        valid = True\n",
    "        break\n",
    "\n",
    "if valid:\n",
    "    print(\"Valid string\")\n",
    "else:\n",
    "    print(\"Invalid string\")\n"
   ]
  },
  {
   "cell_type": "code",
   "execution_count": null,
   "metadata": {},
   "outputs": [],
   "source": [
    "# Take an integer as input .\n",
    "# Calculate the sum of its digit .\n",
    "# If the sum is divisible by 3 , then print True , else print False . \n",
    "\n",
    "\n",
    "\n",
    "def Calculate(nums):\n",
    "    if nums <0 : \n",
    "        return ValueError\n",
    "    total= sum(int(digit) for digit in str(nums))\n",
    "    return total % 3 == 0\n",
    "        \n",
    "def main():\n",
    "    nums = int(input(\"enyer\"))\n",
    "    print(Calculate(nums))\n",
    "\n",
    "if __name__ =='__main__':main()\n"
   ]
  },
  {
   "cell_type": "code",
   "execution_count": 6,
   "metadata": {},
   "outputs": [
    {
     "name": "stdout",
     "output_type": "stream",
     "text": [
      "Invalid Count: 1\n",
      "Valid Count: 1\n"
     ]
    }
   ],
   "source": [
    "def valid(lst):\n",
    "    validcount = 0\n",
    "    invalidcount = 0\n",
    "    \n",
    "    for i in lst:\n",
    "        if not i.isalpha() and i !=\" \":\n",
    "            invalidcount += 1\n",
    "        else:\n",
    "            validcount += 1\n",
    "\n",
    "    return [invalidcount, validcount]\n",
    "\n",
    "\n",
    "lst = []\n",
    "num_elements = int(input(\"Enter the number of elements: \"))\n",
    "for _ in range(num_elements):\n",
    "    s = input(\"Enter a value: \")\n",
    "    lst.append(s)\n",
    "    \n",
    "v, i = valid(lst)\n",
    "\n",
    "print(\"Invalid Count:\", v)\n",
    "print(\"Valid Count:\", i)"
   ]
  },
  {
   "cell_type": "code",
   "execution_count": 24,
   "metadata": {
    "slideshow": {
     "slide_type": "subslide"
    }
   },
   "outputs": [
    {
     "name": "stdout",
     "output_type": "stream",
     "text": [
      "1\n"
     ]
    }
   ],
   "source": [
    "\n",
    "def searchstring(temp,string):\n",
    "    lower_lst = list(map(lambda x:x.lower(),string))\n",
    "    lower_temp = temp.lower()\n",
    "    \n",
    "    \n",
    "    if lower_temp in lower_lst:\n",
    "        print(lower_lst.index(lower_temp ))\n",
    "    else:\n",
    "        print(\"string not found\")\n",
    "\n",
    "temp =''\n",
    "string =[]\n",
    "num = int(input())\n",
    "for _ in range(num):\n",
    "    s = input(\"enter the string:\")\n",
    "    string.append(s)\n",
    "temp = input('enter the string to be searched :')\n",
    "\n",
    "searchstring(temp,string)\n",
    "\n",
    "    "
   ]
  },
  {
   "cell_type": "code",
   "execution_count": 1,
   "metadata": {},
   "outputs": [
    {
     "name": "stdout",
     "output_type": "stream",
     "text": [
      "50\n",
      "No Adequate balance\n"
     ]
    }
   ],
   "source": [
    "class Account:\n",
    "    def __init__(self, accntNo, accntName, accntBalance):\n",
    "        self.accntNo = accntNo\n",
    "        self.accntName = accntName\n",
    "        self.accntBalance = accntBalance\n",
    "\n",
    "\n",
    "class AccountDemo:\n",
    "    def __init__(self):\n",
    "        pass\n",
    "\n",
    "    def depositAmnt(self, account, amount):\n",
    "        account.accntBalance += amount\n",
    "        return account.accntBalance\n",
    "\n",
    "    def withdrawAmnt(self, account, amount):\n",
    "        if account.accntBalance - amount < 1000:\n",
    "            return \"No Adequate balance\"\n",
    "        else:\n",
    "            account.accntBalance -= amount\n",
    "            return account.accntBalance\n",
    "\n",
    "\n",
    "if __name__ == '__main__':\n",
    "    acno = int(input())\n",
    "    acname = input()\n",
    "    acntbal = int(input())\n",
    "    depamnt = int(input())\n",
    "    withamnt = int(input())\n",
    "\n",
    "    acnt = Account(acno, acname, acntbal)\n",
    "    acntdemoobj = AccountDemo()\n",
    "    \n",
    "    print(acntdemoobj.depositAmnt(acnt, depamnt))\n",
    "    print(acntdemoobj.withdrawAmnt(acnt, withamnt))\n"
   ]
  },
  {
   "cell_type": "code",
   "execution_count": 10,
   "metadata": {},
   "outputs": [
    {
     "ename": "ValueError",
     "evalue": "invalid literal for int() with base 10: ''",
     "output_type": "error",
     "traceback": [
      "\u001b[1;31m---------------------------------------------------------------------------\u001b[0m",
      "\u001b[1;31mValueError\u001b[0m                                Traceback (most recent call last)",
      "\u001b[1;32md:\\Python_Training\\practice\\practice.ipynb Cell 37\u001b[0m in \u001b[0;36m<cell line: 15>\u001b[1;34m()\u001b[0m\n\u001b[0;32m     <a href='vscode-notebook-cell:/d%3A/Python_Training/practice/practice.ipynb#X51sZmlsZQ%3D%3D?line=12'>13</a>\u001b[0m \u001b[39m#Sample main section. \u001b[39;00m\n\u001b[0;32m     <a href='vscode-notebook-cell:/d%3A/Python_Training/practice/practice.ipynb#X51sZmlsZQ%3D%3D?line=13'>14</a>\u001b[0m \u001b[39m#Do not remove the below portion of code. \u001b[39;00m\n\u001b[0;32m     <a href='vscode-notebook-cell:/d%3A/Python_Training/practice/practice.ipynb#X51sZmlsZQ%3D%3D?line=14'>15</a>\u001b[0m \u001b[39mif\u001b[39;00m \u001b[39m__name__\u001b[39m\u001b[39m==\u001b[39m\u001b[39m'\u001b[39m\u001b[39m__main__\u001b[39m\u001b[39m'\u001b[39m:\n\u001b[1;32m---> <a href='vscode-notebook-cell:/d%3A/Python_Training/practice/practice.ipynb#X51sZmlsZQ%3D%3D?line=15'>16</a>\u001b[0m     count\u001b[39m=\u001b[39m\u001b[39mint\u001b[39;49m(\u001b[39minput\u001b[39;49m())\n\u001b[0;32m     <a href='vscode-notebook-cell:/d%3A/Python_Training/practice/practice.ipynb#X51sZmlsZQ%3D%3D?line=16'>17</a>\u001b[0m     inp_str\u001b[39m=\u001b[39m[]\n\u001b[0;32m     <a href='vscode-notebook-cell:/d%3A/Python_Training/practice/practice.ipynb#X51sZmlsZQ%3D%3D?line=17'>18</a>\u001b[0m     \u001b[39mfor\u001b[39;00m i \u001b[39min\u001b[39;00m \u001b[39mrange\u001b[39m(count):\n",
      "\u001b[1;31mValueError\u001b[0m: invalid literal for int() with base 10: ''"
     ]
    }
   ],
   "source": [
    "#Define the find_Novowels function here\n",
    "def find_Novowels(inp_str):\n",
    "    out = []\n",
    "    for string in inp_str:\n",
    "        lowercase_string = string.lower()\n",
    "        has_vowels = any(char in lowercase_string for char in ('a', 'e', 'i', 'o', 'u'))\n",
    "        if not has_vowels:\n",
    "            out.append(string)\n",
    "    return out\n",
    " \n",
    "\n",
    " \n",
    "#Sample main section. \n",
    "#Do not remove the below portion of code. \n",
    "if __name__=='__main__':\n",
    "    count=int(input())\n",
    "    inp_str=[]\n",
    "    for i in range(count):\n",
    "            inp_str.append(input())\n",
    "    output=find_Novowels(inp_str)\n",
    "    if len(output)!=0:\n",
    "            print('Strings without vowels:')\n",
    "            for i in output:\n",
    "                    print(i)\n",
    "    else:\n",
    "            print('No string found')\n",
    "            "
   ]
  },
  {
   "cell_type": "code",
   "execution_count": 35,
   "metadata": {},
   "outputs": [
    {
     "name": "stdout",
     "output_type": "stream",
     "text": [
      "Madam\n",
      "level\n",
      "Refer\n"
     ]
    }
   ],
   "source": [
    "#Define the check_palindrome function here \n",
    "\n",
    " \n",
    "def check_palindrome(lst):\n",
    "    outlst = []\n",
    "    for string in lst:\n",
    "        lowercase_string = string.lower()  # Convert the string to lowercase\n",
    "        if lowercase_string == lowercase_string[::-1]:  # Check if the string is a palindrome\n",
    "            outlst.append(string)\n",
    "    return outlst\n",
    "\n",
    " \n",
    "\n",
    "  \n",
    "\n",
    "#Sample main section.  \n",
    "\n",
    "#Do not remove the below portion of code.  \n",
    "\n",
    "if __name__=='__main__': \n",
    "\n",
    "        count=int(input()) \n",
    "\n",
    "        inp_str=[] \n",
    "\n",
    "        for i in range(count): \n",
    "\n",
    "                inp_str.append(input()) \n",
    "\n",
    "        output=check_palindrome(inp_str) \n",
    "\n",
    "        if len(output)!=0: \n",
    "            for i in output: \n",
    "                print(i) \n",
    "\n",
    "        else: \n",
    "\n",
    "                print('No palindrome found')\n",
    "              "
   ]
  },
  {
   "cell_type": "code",
   "execution_count": 1,
   "metadata": {},
   "outputs": [
    {
     "name": "stdout",
     "output_type": "stream",
     "text": [
      "[[4, 8], [2, 6]]\n"
     ]
    }
   ],
   "source": [
    "import math\n",
    "\n",
    "def check_prime(num):\n",
    "    if num < 2:\n",
    "        return \"Neither prime nor composite.\"\n",
    "    if num == 2:\n",
    "        return \"Prime\"\n",
    "\n",
    "    isPrime = True\n",
    "    if num % i == 0:\n",
    "        isPrime = False\n",
    "        \n",
    "\n",
    "    if isPrime:\n",
    "        return 1\n",
    "    else:\n",
    "        return 0\n",
    "\n",
    "def prime_composite_list(lst):\n",
    "    prime_lst = []\n",
    "    comp_list = []\n",
    "    for i in lst:\n",
    "        if check_prime(i) == 1:\n",
    "            prime_lst.append(i)\n",
    "        else:\n",
    "            comp_list.append(i)\n",
    "    \n",
    "    primecomp_lst = [prime_lst]+[comp_list]\n",
    "    return primecomp_lst\n",
    "\n",
    "\n",
    "if __name__ == '__main__':\n",
    "    inp = []\n",
    "    count = int(input())\n",
    "    for i in range(count):\n",
    "        inp.append(int(input()))\n",
    "    result = prime_composite_list(inp)\n",
    "    print(result)\n"
   ]
  },
  {
   "cell_type": "code",
   "execution_count": 4,
   "metadata": {},
   "outputs": [
    {
     "name": "stdout",
     "output_type": "stream",
     "text": [
      "2\n"
     ]
    }
   ],
   "source": [
    "# write a Python program to find the position of the second occurrence of a given number in a given list of numbers.\n",
    "# Function will take as input a list of numbers as first argument and a numeric variable as second argument . This function should return the index where the given variable value occurs in the list for the second time\n",
    "\n",
    "# Function signature:\n",
    "# getIndex(listOfIntegers,NumericVariable):\n",
    "\n",
    "\n",
    "def getIndex(listOfIntegers, NumericVariable):\n",
    "    first_occurrence_index = -1\n",
    "    second_occurrence_index = -1\n",
    "\n",
    "    for i in range(len(listOfIntegers)):\n",
    "        if listOfIntegers[i] == NumericVariable:\n",
    "            if first_occurrence_index == -1:\n",
    "                first_occurrence_index = i\n",
    "            elif second_occurrence_index == -1:\n",
    "                second_occurrence_index = i\n",
    "                break\n",
    "\n",
    "    if second_occurrence_index != -1:\n",
    "        return second_occurrence_index\n",
    "    else:\n",
    "        return 0\n",
    "\n",
    "\n",
    "\n",
    "lstint=[]\n",
    "\n",
    "num = int(input())\n",
    "\n",
    "for i in range(num):\n",
    "    l = int(input())\n",
    "    lstint.append(l)\n",
    "\n",
    "number = int(input())\n",
    "\n",
    "result = getIndex(lstint,number)\n",
    "print(result)    "
   ]
  },
  {
   "cell_type": "code",
   "execution_count": 1,
   "metadata": {},
   "outputs": [
    {
     "name": "stdout",
     "output_type": "stream",
     "text": [
      "Random text file generated successfully.\n"
     ]
    }
   ],
   "source": [
    "import random\n",
    "import string\n",
    "\n",
    "def generate_random_text(length):\n",
    "    \"\"\"Generate random text of given length.\"\"\"\n",
    "    return ''.join(random.choices(string.ascii_letters + string.digits, k=length))\n",
    "\n",
    "def generate_random_page():\n",
    "    \"\"\"Generate a random page of text.\"\"\"\n",
    "    page_length = random.randint(500, 1000)  # Random length for each page\n",
    "    return generate_random_text(page_length)\n",
    "\n",
    "def generate_random_text_file(num_pages, file_name):\n",
    "    \"\"\"Generate a text file with random text for the given number of pages.\"\"\"\n",
    "    with open(file_name, 'w') as file:\n",
    "        for _ in range(num_pages):\n",
    "            page = generate_random_page()\n",
    "            file.write(page + '\\n')\n",
    "\n",
    "# Generate a text file with random text for 10 pages\n",
    "generate_random_text_file(10, 'random_text.txt')\n",
    "print(\"Random text file generated successfully.\")\n"
   ]
  },
  {
   "cell_type": "code",
   "execution_count": 3,
   "metadata": {},
   "outputs": [],
   "source": [
    "from docx import Document\n",
    "import lorem\n",
    "\n",
    "document = Document()\n",
    "\n",
    "for _ in range(120):\n",
    "    document.add_paragraph(lorem.paragraph())\n",
    "\n",
    "document.save(\"random_text5.docx\")\n"
   ]
  },
  {
   "cell_type": "code",
   "execution_count": 8,
   "metadata": {},
   "outputs": [
    {
     "name": "stdout",
     "output_type": "stream",
     "text": [
      "valid 1\n",
      "invalid 1\n"
     ]
    }
   ],
   "source": [
    "def checkvalid(string):\n",
    "    invalidcount=0\n",
    "    validcount=0\n",
    "    \n",
    "    for i in string:\n",
    "        if  not i.isalpha() and i!=\" \":\n",
    "            invalidcount+=1\n",
    "        else:\n",
    "            validcount += 1\n",
    "            \n",
    "    return [validcount,invalidcount]\n",
    "\n",
    "\n",
    "num =int(input())\n",
    "lst=[]\n",
    "for _ in range(num):\n",
    "    s=input()\n",
    "    lst.append(s)\n",
    "    \n",
    "v,i=checkvalid(lst)\n",
    "print(\"valid\",v)\n",
    "print(\"invalid\",i)\n",
    "            \n",
    "    "
   ]
  },
  {
   "cell_type": "code",
   "execution_count": 8,
   "metadata": {},
   "outputs": [
    {
     "data": {
      "text/plain": [
       "6.0"
      ]
     },
     "execution_count": 8,
     "metadata": {},
     "output_type": "execute_result"
    }
   ],
   "source": [
    "import math\n",
    "math.sqrt(36)"
   ]
  },
  {
   "cell_type": "code",
   "execution_count": 5,
   "metadata": {},
   "outputs": [
    {
     "ename": "ValueError",
     "evalue": "invalid literal for int() with base 10: ''",
     "output_type": "error",
     "traceback": [
      "\u001b[1;31m---------------------------------------------------------------------------\u001b[0m",
      "\u001b[1;31mValueError\u001b[0m                                Traceback (most recent call last)",
      "\u001b[1;32md:\\Python_Training\\practice\\practice.ipynb Cell 45\u001b[0m in \u001b[0;36m<cell line: 59>\u001b[1;34m()\u001b[0m\n\u001b[0;32m     <a href='vscode-notebook-cell:/d%3A/Python_Training/practice/practice.ipynb#X62sZmlsZQ%3D%3D?line=56'>57</a>\u001b[0m     \u001b[39mreturn\u001b[39;00m res2\n\u001b[0;32m     <a href='vscode-notebook-cell:/d%3A/Python_Training/practice/practice.ipynb#X62sZmlsZQ%3D%3D?line=58'>59</a>\u001b[0m \u001b[39mif\u001b[39;00m \u001b[39m__name__\u001b[39m \u001b[39m==\u001b[39m \u001b[39m'\u001b[39m\u001b[39m__main__\u001b[39m\u001b[39m'\u001b[39m:\n\u001b[1;32m---> <a href='vscode-notebook-cell:/d%3A/Python_Training/practice/practice.ipynb#X62sZmlsZQ%3D%3D?line=59'>60</a>\u001b[0m     count\u001b[39m=\u001b[39m\u001b[39mint\u001b[39;49m(\u001b[39minput\u001b[39;49m())\n\u001b[0;32m     <a href='vscode-notebook-cell:/d%3A/Python_Training/practice/practice.ipynb#X62sZmlsZQ%3D%3D?line=60'>61</a>\u001b[0m     l\u001b[39m=\u001b[39m[]\n\u001b[0;32m     <a href='vscode-notebook-cell:/d%3A/Python_Training/practice/practice.ipynb#X62sZmlsZQ%3D%3D?line=61'>62</a>\u001b[0m     \u001b[39mfor\u001b[39;00m i \u001b[39min\u001b[39;00m \u001b[39mrange\u001b[39m(count):\n",
      "\u001b[1;31mValueError\u001b[0m: invalid literal for int() with base 10: ''"
     ]
    }
   ],
   "source": [
    "class City: \n",
    " def __init__(self,c,s,cn,cb,avlcb,v,avlvb): \n",
    "    self.city_id=c \n",
    "    self.state_name=s \n",
    "    self.city_name=cn \n",
    "    self.covidbeds=cb \n",
    "    self.avlblcovbeds=avlcb \n",
    "    self.vetilbeds=v \n",
    "    self.avlblventilbeds=avlvb \n",
    "class CovBedAnalysis: \n",
    " def __init__(self,an,cl):\n",
    "     self.analysis_name=an \n",
    "     self.city_list=cl \n",
    " def get_StateWiseAvalblBedStats(self): \n",
    "    l=[] \n",
    "    for i in self.city_list: \n",
    "        l.append(i.state_name) \n",
    "    l=set(l) \n",
    "    l=sorted(l) \n",
    "    res=[] \n",
    "    for i in l: \n",
    "        k=[] \n",
    "        acb=0 \n",
    "        avb=0 \n",
    "        for j in self.city_list: \n",
    "            if i==j.state_name: \n",
    "                acb+=j.avlblcovbeds \n",
    "                avb+=j.avlblventilbeds \n",
    "        k.append(i) \n",
    "        k.append(acb) \n",
    "        k.append(avb) \n",
    "        res.append(k)\n",
    "    return res\n",
    " def get_CitiesWithMoreThanAvgOccpiedbeds(self,state): \n",
    "    res2=[] \n",
    "    temp=0 \n",
    "    cvb=0 \n",
    "    veb=0 \n",
    "    for i in self.city_list: \n",
    "        if state==i.state_name: \n",
    "            temp+=1 \n",
    "            cvb+=i.covidbeds-i.avlblcovbeds \n",
    "            veb+=i.vetilbeds-i.avlblventilbeds \n",
    "    if(temp > 0): \n",
    "        avg1=cvb//temp \n",
    "        avg2=veb//temp \n",
    "    for i in self.city_list: \n",
    "        if state==i.state_name: \n",
    "         k=[] \n",
    "         cb=i.covidbeds-i.avlblcovbeds \n",
    "         vb=i.vetilbeds-i.avlblventilbeds \n",
    "         if(avg1<cb and avg2<vb): \n",
    "             k.append(i.city_name)\n",
    "             k.append(cb) \n",
    "             k.append(vb) \n",
    "             res2.append(tuple(k)) \n",
    "    return res2\n",
    "\n",
    "if __name__ == '__main__':\n",
    "    count=int(input())\n",
    "    l=[]\n",
    "    for i in range(count):\n",
    "        c=int(input()) \n",
    "        s=input() \n",
    "        cn=input() \n",
    "        cb=int(input()) \n",
    "        avlblcb=int(input()) \n",
    "        v=int(input()) \n",
    "        avlvb=int(input()) \n",
    "        l.append(City(c,s,cn,cb,avlblcb,v,avlvb))\n",
    "    c=CovBedAnalysis(\"covid\",l)\n",
    "    state=input()\n",
    "    res1=c.get_StateWiseAvalblBedStats()\n",
    "    for i in range(len(res1)):\n",
    "        for j in range(len(res1[i])):\n",
    "            print(res1[i][j],end=\" \")\n",
    "        print(\"\")\n",
    "    res2=c.get_CitiesWithMoreThanAvgOccupiedbeds(state)\n",
    "    if(len(res2)>0):\n",
    "        for i in range(len(res2)): \n",
    "            for j in range(len(res2[i])):\n",
    "                print(res2[i][j],end=\" \")\n",
    "            print(\"\")\n",
    "    else: \n",
    "        print(\"No city available\")"
   ]
  },
  {
   "cell_type": "code",
   "execution_count": 1,
   "metadata": {},
   "outputs": [
    {
     "name": "stdout",
     "output_type": "stream",
     "text": [
      "O-Positive 1\n",
      "Donor count not available\n",
      "O-Positive 1\n"
     ]
    }
   ],
   "source": [
    "class Donor:\n",
    "    def __init__(self, donor_id, name, contact_number, blood_group, prev_donated_mon, away_from):\n",
    "        self.donor_id = donor_id\n",
    "        self.name = name\n",
    "        self.contact_number = contact_number\n",
    "        self.blood_group = blood_group\n",
    "        self.prev_donated_mon = prev_donated_mon\n",
    "        self.last_donation_month = self.convertMonthToInteger(prev_donated_mon)\n",
    "        self.away_from = away_from\n",
    "        self.available = True\n",
    "\n",
    "    def convertMonthToInteger(self, month):\n",
    "        months = {\n",
    "            'Jan': 1,\n",
    "            'Feb': 2,\n",
    "            'Mar': 3,\n",
    "            'Apr': 4,\n",
    "            'May': 5,\n",
    "            'Jun': 6,\n",
    "            'Jul': 7,\n",
    "            'Aug': 8,\n",
    "            'Sep': 9,\n",
    "            'Oct': 10,\n",
    "            'Nov': 11,\n",
    "            'Dec': 12\n",
    "        }\n",
    "        return months.get(month)\n",
    "\n",
    "    def markUnavailable(self):\n",
    "        self.available = False\n",
    "\n",
    "\n",
    "class BloodBank:\n",
    "    def __init__(self, name, donors):\n",
    "        self.name = name\n",
    "        self.donors = donors\n",
    "\n",
    "    def getListofAvailableDonors(self):\n",
    "        available_donors = {}\n",
    "        for donor in self.donors:\n",
    "            if (\n",
    "                donor.last_donation_month <= 3\n",
    "                and donor.away_from >= 6\n",
    "                and donor.available\n",
    "            ):\n",
    "                blood_group = donor.blood_group\n",
    "                if blood_group in available_donors:\n",
    "                    available_donors[blood_group] += 1\n",
    "                else:\n",
    "                    available_donors[blood_group] = 1\n",
    "        return available_donors\n",
    "\n",
    "    def getAndUpdateDonor(self, blood_group, count):\n",
    "        available_donors = []\n",
    "        for donor in self.donors:\n",
    "            if (\n",
    "                donor.blood_group == blood_group\n",
    "                and donor.last_donation_month <= 3\n",
    "                and donor.away_from >= 6\n",
    "                and donor.available\n",
    "            ):\n",
    "                available_donors.append(donor)\n",
    "\n",
    "        if len(available_donors) >= count:\n",
    "            for i in range(count):\n",
    "                available_donors[i].markUnavailable()\n",
    "            return True\n",
    "\n",
    "        return False\n",
    "\n",
    "\n",
    "if __name__ == \"__main__\":\n",
    "    num_donors = int(input())\n",
    "    donors_list = []\n",
    "    for _ in range(num_donors):\n",
    "        donor_id = input()\n",
    "        name = input()\n",
    "        contact_number = input()\n",
    "        blood_group = input()\n",
    "        prev_donated_mon = input()\n",
    "        away_from = int(input())\n",
    "        donor = Donor(donor_id, name, contact_number, blood_group, prev_donated_mon, away_from)\n",
    "        donors_list.append(donor)\n",
    "\n",
    "    blood_bank = BloodBank(\"My Blood Bank\", donors_list)\n",
    "\n",
    "    blood_group = input()\n",
    "    required_count = int(input())\n",
    "\n",
    "    available_donors_before_donation = blood_bank.getListofAvailableDonors()\n",
    "    for blood_group, count in available_donors_before_donation.items():\n",
    "        print(f\"{blood_group} {count}\")\n",
    "\n",
    "    if blood_bank.getAndUpdateDonor(blood_group, required_count):\n",
    "        print(\"Donor count available\")\n",
    "    else:\n",
    "        print(\"Donor count not available\")\n",
    "\n",
    "    available_donors_after_donation = blood_bank.getListofAvailableDonors()\n",
    "    for blood_group, count in available_donors_after_donation.items():\n",
    "        print(f\"{blood_group} {count}\")\n"
   ]
  },
  {
   "cell_type": "code",
   "execution_count": 2,
   "metadata": {},
   "outputs": [
    {
     "name": "stdout",
     "output_type": "stream",
     "text": [
      "AndhraPradesh 400000 3500\n",
      "Delhi 20000 2000\n",
      "Telangana 70000 1500\n",
      "Vijayawada 300000 2500\n"
     ]
    }
   ],
   "source": [
    "import sys\n",
    "\n",
    "class City:\n",
    "    def __init__(self, c, s, cn, cb, avlcb, v, avlvb):\n",
    "        self.city_id = int(c)\n",
    "        self.state_name = s\n",
    "        self.city_name = cn\n",
    "        self.covidbeds = int(cb)\n",
    "        self.avlblcovbeds = int(avlcb)\n",
    "        self.vetilbeds = int(v)\n",
    "        self.avlblventilbeds = int(avlvb)\n",
    "\n",
    "\n",
    "class CovBedAnalysis:\n",
    "    def __init__(self, an, cl):\n",
    "        self.analysis_name = an\n",
    "        self.city_list = cl\n",
    "\n",
    "    def get_StateWiseAvalblBedStats(self):\n",
    "        state_stats = {}\n",
    "        for city in self.city_list:\n",
    "            state_name = city.state_name\n",
    "            if state_name in state_stats:\n",
    "                state_stats[state_name][0] += city.avlblcovbeds\n",
    "                state_stats[state_name][1] += city.avlblventilbeds\n",
    "            else:\n",
    "                state_stats[state_name] = [city.avlblcovbeds, city.avlblventilbeds]\n",
    "\n",
    "        sorted_stats = sorted(state_stats.items())\n",
    "        return [(state_name, total_covbeds, total_ventilbeds) for state_name, (total_covbeds, total_ventilbeds) in sorted_stats]\n",
    "\n",
    "    def get_CitiesWithMoreThanAvgOccpiedbeds(self, state):\n",
    "        state = state.lower()\n",
    "        state_cities = [city for city in self.city_list if city.state_name.lower() == state]\n",
    "        if not state_cities:\n",
    "            return None\n",
    "\n",
    "        total_covbeds = sum(city.avlblcovbeds for city in state_cities)\n",
    "        total_ventilbeds = sum(city.avlblventilbeds for city in state_cities)\n",
    "        avg_covbeds = total_covbeds // len(state_cities)\n",
    "        avg_ventilbeds = total_ventilbeds // len(state_cities)\n",
    "\n",
    "        cities_with_more_beds = []\n",
    "        for city in state_cities:\n",
    "            if city.avlblcovbeds > avg_covbeds and city.avlblventilbeds > avg_ventilbeds:\n",
    "                cities_with_more_beds.append((city.city_name, city.avlblcovbeds, city.avlblventilbeds))\n",
    "\n",
    "        if not cities_with_more_beds:\n",
    "            return None\n",
    "\n",
    "        return cities_with_more_beds\n",
    "\n",
    "\n",
    "def main():\n",
    "    city_count = int(input().rstrip())\n",
    "    city_list = []\n",
    "    for _ in range(city_count):\n",
    "        c = input().rstrip()\n",
    "        s = input().rstrip()\n",
    "        cn = input().rstrip()\n",
    "        cb = input().rstrip()\n",
    "        avlblcb = input().rstrip()\n",
    "        v = input().rstrip()\n",
    "        avlvb = input().rstrip()\n",
    "        city_list.append(City(c, s, cn, cb, avlblcb, v, avlvb))\n",
    "\n",
    "    c = CovBedAnalysis(\"covid\", city_list)\n",
    "    state = input().rstrip()\n",
    "\n",
    "    res1 = c.get_StateWiseAvalblBedStats()\n",
    "    for state_name, total_covbeds, total_ventilbeds in res1:\n",
    "        print(state_name, total_covbeds, total_ventilbeds)\n",
    "\n",
    "    res2 = c.get_CitiesWithMoreThanAvgOccpiedbeds(state)\n",
    "    if res2 is not None:\n",
    "        for city_name, occupied_covbeds, occupied_ventilbeds in res2:\n",
    "            print(city_name, occupied_covbeds, occupied_ventilbeds)\n",
    "    else:\n",
    "        print(\"No city available\")\n",
    "\n",
    "\n",
    "if __name__ == '__main__':\n",
    "    main()\n"
   ]
  },
  {
   "cell_type": "code",
   "execution_count": 3,
   "metadata": {},
   "outputs": [
    {
     "ename": "NameError",
     "evalue": "name 'Delhi' is not defined",
     "output_type": "error",
     "traceback": [
      "\u001b[1;31m---------------------------------------------------------------------------\u001b[0m",
      "\u001b[1;31mNameError\u001b[0m                                 Traceback (most recent call last)",
      "\u001b[1;32md:\\Python_Training\\practice\\practice.ipynb Cell 48\u001b[0m in \u001b[0;36m<cell line: 1>\u001b[1;34m()\u001b[0m\n\u001b[1;32m----> <a href='vscode-notebook-cell:/d%3A/Python_Training/practice/practice.ipynb#X65sZmlsZQ%3D%3D?line=0'>1</a>\u001b[0m \u001b[39m5\u001b[39m, \u001b[39m101\u001b[39m, Delhi, Delhi, \u001b[39m100000\u001b[39m, \u001b[39m20000\u001b[39m, \u001b[39m5000\u001b[39m, \u001b[39m2000\u001b[39m, \u001b[39m102\u001b[39m, Telangana, Hyderabad, \u001b[39m200000\u001b[39m, \u001b[39m40000\u001b[39m, \u001b[39m1000\u001b[39m, \u001b[39m500\u001b[39m, \u001b[39m103\u001b[39m, Telangana, Warangal, \u001b[39m100000\u001b[39m, \u001b[39m30000\u001b[39m, \u001b[39m2000\u001b[39m, \u001b[39m1000\u001b[39m, \u001b[39m104\u001b[39m, AndhraPradesh, Vijayawada, \u001b[39m800000\u001b[39m, \u001b[39m300000\u001b[39m, \u001b[39m30000\u001b[39m, \u001b[39m2500\u001b[39m, \u001b[39m105\u001b[39m, \u001b[39m4\u001b[39m\n",
      "\u001b[1;31mNameError\u001b[0m: name 'Delhi' is not defined"
     ]
    }
   ],
   "source": []
  },
  {
   "cell_type": "code",
   "execution_count": 1,
   "metadata": {},
   "outputs": [
    {
     "name": "stdout",
     "output_type": "stream",
     "text": [
      "[3, 8, 2, 1, 5]\n"
     ]
    }
   ],
   "source": [
    "def shuffle_based_on_difference(lst):\n",
    "    diff = max(lst) - min(lst)\n",
    "    for _ in range(diff):\n",
    "        element = lst.pop(0)\n",
    "        lst.append(element)\n",
    "    return lst\n",
    "numbers = [1, 5, 3, 8, 2]\n",
    "shuffled_numbers = shuffle_based_on_difference(numbers)\n",
    "print(shuffled_numbers)\n"
   ]
  },
  {
   "cell_type": "code",
   "execution_count": 3,
   "metadata": {},
   "outputs": [
    {
     "name": "stdout",
     "output_type": "stream",
     "text": [
      "Expected Output: 2 2\n",
      "Error Error\n",
      "Error Error\n",
      "Output: 0 0\n",
      "Error Error\n",
      "Output: 1 1\n",
      "Output: 2 2\n"
     ]
    }
   ],
   "source": [
    "def locate_card(card, num):\n",
    "    position = 0\n",
    "    \n",
    "    while position < len(card):\n",
    "        if card[position] == num:\n",
    "            return position\n",
    "        position += 1\n",
    "    \n",
    "    return \"Error\"\n",
    "\n",
    "\n",
    "# Test Case 1\n",
    "card1 = [3, 7, 2, 9, 4]\n",
    "num1 = 2\n",
    "print('Expected Output: 2',locate_card(card1, num1))  # Expected Output: 2\n",
    "\n",
    "# Test Case 2\n",
    "card2 = [1, 5, 8, 6, 3]\n",
    "num2 = 9\n",
    "print(\"Error\",locate_card(card2, num2))  # Expected Output: \"Error\"\n",
    "\n",
    "# Test Case 3\n",
    "card3 = []\n",
    "num3 = 7\n",
    "print(\"Error\",locate_card(card3, num3))  # Expected Output: \"Error\"\n",
    "\n",
    "# Test Case 4\n",
    "card4 = [6]\n",
    "num4 = 6\n",
    "print('Output: 0',locate_card(card4, num4))  # Expected Output: 0\n",
    "\n",
    "# Test Case 5\n",
    "card5 = [8]\n",
    "num5 = 2\n",
    "print(\"Error\",locate_card(card5, num5))  # Expected Output: \"Error\"\n",
    "\n",
    "# Test Case 6\n",
    "card6 = [3, 5, 7, 5, 2, 5]\n",
    "num6 = 5\n",
    "print('Output: 1',locate_card(card6, num6))  # Expected Output: 1\n",
    "\n",
    "# Test Case 7\n",
    "card7 = [-2, -6, -1, -4]\n",
    "num7 = -1\n",
    "print('Output: 2',locate_card(card7, num7))  # Expected Output: 2\n"
   ]
  },
  {
   "cell_type": "code",
   "execution_count": 3,
   "metadata": {},
   "outputs": [
    {
     "name": "stdout",
     "output_type": "stream",
     "text": [
      "valid 2\n",
      "invalid 2\n"
     ]
    }
   ],
   "source": [
    "def validorinvalid(string):\n",
    "    for i in string:\n",
    "        if not i.isalpha() and i!=\" \":\n",
    "            return False\n",
    "    return True\n",
    "\n",
    "def check(lst):\n",
    "    valid=0\n",
    "    invalid=0\n",
    "    for w in lst:\n",
    "        if validorinvalid(w):\n",
    "            valid+=1\n",
    "        else:\n",
    "            invalid+=1\n",
    "    return valid,invalid\n",
    "\n",
    "\n",
    "\n",
    "\n",
    "if __name__ =='__main__':\n",
    "    lst=[]\n",
    "    num = int(input())\n",
    "    for _ in range(num):\n",
    "        s = input()\n",
    "        lst.append(s)\n",
    "        \n",
    "v,i=check(lst=lst)\n",
    "\n",
    "print(\"valid\",v)\n",
    "print(\"invalid\",i)\n"
   ]
  },
  {
   "cell_type": "code",
   "execution_count": null,
   "metadata": {},
   "outputs": [],
   "source": []
  }
 ],
 "metadata": {
  "kernelspec": {
   "display_name": "Python 3",
   "language": "python",
   "name": "python3"
  },
  "language_info": {
   "codemirror_mode": {
    "name": "ipython",
    "version": 3
   },
   "file_extension": ".py",
   "mimetype": "text/x-python",
   "name": "python",
   "nbconvert_exporter": "python",
   "pygments_lexer": "ipython3",
   "version": "3.9.13"
  },
  "orig_nbformat": 4
 },
 "nbformat": 4,
 "nbformat_minor": 2
}
